{
 "cells": [
  {
   "cell_type": "markdown",
   "metadata": {},
   "source": [
    "# 로지스틱 회귀"
   ]
  },
  {
   "cell_type": "markdown",
   "metadata": {},
   "source": [
    "#### 시그모이드 함수"
   ]
  },
  {
   "cell_type": "code",
   "execution_count": 1,
   "metadata": {},
   "outputs": [],
   "source": [
    "import pandas as pd\n",
    "import numpy as np\n",
    "import matplotlib.pyplot as plt"
   ]
  },
  {
   "attachments": {
    "image.png": {
     "image/png": "[encoded data removed]"
    }
   },
   "cell_type": "markdown",
   "metadata": {},
   "source": [
    "![image.png](attachment:image.png)"
   ]
  },
  {
   "cell_type": "code",
   "execution_count": 2,
   "metadata": {},
   "outputs": [
    {
     "name": "stderr",
     "output_type": "stream",
     "text": [
      "C:\\anaconda\\envs\\test3\\lib\\site-packages\\matplotlib\\backends\\backend_agg.py:238: RuntimeWarning: Glyph 8722 missing from current font.\n",
      "  font.set_text(s, 0.0, flags=flags)\n",
      "C:\\anaconda\\envs\\test3\\lib\\site-packages\\matplotlib\\backends\\backend_agg.py:201: RuntimeWarning: Glyph 8722 missing from current font.\n",
      "  font.set_text(s, 0, flags=flags)\n"
     ]
    },
    {
     "data": {
      "image/png": "[encoded data removed]",
      "text/plain": [
       "<Figure size 432x288 with 1 Axes>"
      ]
     },
     "metadata": {
      "needs_background": "light"
     },
     "output_type": "display_data"
    }
   ],
   "source": [
    "#### \n",
    "def sigmoid(z):\n",
    "    return 1.0 / (1 + np.exp(-z))\n",
    "\n",
    "z = np.linspace(-10, 10, 200)\n",
    "y = sigmoid(z)\n",
    "\n",
    "plt.plot(z, y)\n",
    "plt.axhline(y=0, linestyle=':', color='k')\n",
    "plt.axhline(y=0.5, linestyle=':', color='k')\n",
    "plt.axhline(y=1, linestyle=':', color='k')\n",
    "plt.axvline(x=0, linestyle=':', color='g')\n",
    "plt.yticks([0.0, 0.25, 0.5, 0.75, 1])\n",
    "plt.xlabel('z', fontsize=15)\n",
    "plt.ylabel('y(z)', fontsize=15);"
   ]
  },
  {
   "cell_type": "markdown",
   "metadata": {},
   "source": [
    "# 1. Logistic Regression : 악성종양 판단, 2진 분류"
   ]
  },
  {
   "cell_type": "markdown",
   "metadata": {},
   "source": [
    "#### 1. 데이터 수집하기"
   ]
  },
  {
   "cell_type": "code",
   "execution_count": 3,
   "metadata": {},
   "outputs": [],
   "source": [
    "import numpy as np\n",
    "import pandas as pd\n",
    "\n",
    "from sklearn.datasets import load_breast_cancer\n",
    "\n",
    "b_cancer = load_breast_cancer()"
   ]
  },
  {
   "cell_type": "markdown",
   "metadata": {},
   "source": [
    "#### 2. 데이터 탐색하기"
   ]
  },
  {
   "cell_type": "code",
   "execution_count": 4,
   "metadata": {},
   "outputs": [
    {
     "name": "stdout",
     "output_type": "stream",
     "text": [
      ".. _breast_cancer_dataset:\n",
      "\n",
      "Breast cancer wisconsin (diagnostic) dataset\n",
      "--------------------------------------------\n",
      "\n",
      "**Data Set Characteristics:**\n",
      "\n",
      "    :Number of Instances: 569\n",
      "\n",
      "    :Number of Attributes: 30 numeric, predictive attributes and the class\n",
      "\n",
      "    :Attribute Information:\n",
      "        - radius (mean of distances from center to points on the perimeter)\n",
      "        - texture (standard deviation of gray-scale values)\n",
      "        - perimeter\n",
      "        - area\n",
      "        - smoothness (local variation in radius lengths)\n",
      "        - compactness (perimeter^2 / area - 1.0)\n",
      "        - concavity (severity of concave portions of the contour)\n",
      "        - concave points (number of concave portions of the contour)\n",
      "        - symmetry\n",
      "        - fractal dimension (\"coastline approximation\" - 1)\n",
      "\n",
      "        The mean, standard error, and \"worst\" or largest (mean of the three\n",
      "        worst/largest values) of these features were computed for each image,\n",
      "        resulting in 30 features.  For instance, field 0 is Mean Radius, field\n",
      "        10 is Radius SE, field 20 is Worst Radius.\n",
      "\n",
      "        - class:\n",
      "                - WDBC-Malignant\n",
      "                - WDBC-Benign\n",
      "\n",
      "    :Summary Statistics:\n",
      "\n",
      "    ===================================== ====== ======\n",
      "                                           Min    Max\n",
      "    ===================================== ====== ======\n",
      "    radius (mean):                        6.981  28.11\n",
      "    texture (mean):                       9.71   39.28\n",
      "    perimeter (mean):                     43.79  188.5\n",
      "    area (mean):                          143.5  2501.0\n",
      "    smoothness (mean):                    0.053  0.163\n",
      "    compactness (mean):                   0.019  0.345\n",
      "    concavity (mean):                     0.0    0.427\n",
      "    concave points (mean):                0.0    0.201\n",
      "    symmetry (mean):                      0.106  0.304\n",
      "    fractal dimension (mean):             0.05   0.097\n",
      "    radius (standard error):              0.112  2.873\n",
      "    texture (standard error):             0.36   4.885\n",
      "    perimeter (standard error):           0.757  21.98\n",
      "    area (standard error):                6.802  542.2\n",
      "    smoothness (standard error):          0.002  0.031\n",
      "    compactness (standard error):         0.002  0.135\n",
      "    concavity (standard error):           0.0    0.396\n",
      "    concave points (standard error):      0.0    0.053\n",
      "    symmetry (standard error):            0.008  0.079\n",
      "    fractal dimension (standard error):   0.001  0.03\n",
      "    radius (worst):                       7.93   36.04\n",
      "    texture (worst):                      12.02  49.54\n",
      "    perimeter (worst):                    50.41  251.2\n",
      "    area (worst):                         185.2  4254.0\n",
      "    smoothness (worst):                   0.071  0.223\n",
      "    compactness (worst):                  0.027  1.058\n",
      "    concavity (worst):                    0.0    1.252\n",
      "    concave points (worst):               0.0    0.291\n",
      "    symmetry (worst):                     0.156  0.664\n",
      "    fractal dimension (worst):            0.055  0.208\n",
      "    ===================================== ====== ======\n",
      "\n",
      "    :Missing Attribute Values: None\n",
      "\n",
      "    :Class Distribution: 212 - Malignant, 357 - Benign\n",
      "\n",
      "    :Creator:  Dr. William H. Wolberg, W. Nick Street, Olvi L. Mangasarian\n",
      "\n",
      "    :Donor: Nick Street\n",
      "\n",
      "    :Date: November, 1995\n",
      "\n",
      "This is a copy of UCI ML Breast Cancer Wisconsin (Diagnostic) datasets.\n",
      "https://goo.gl/U2Uwz2\n",
      "\n",
      "Features are computed from a digitized image of a fine needle\n",
      "aspirate (FNA) of a breast mass.  They describe\n",
      "characteristics of the cell nuclei present in the image.\n",
      "\n",
      "Separating plane described above was obtained using\n",
      "Multisurface Method-Tree (MSM-T) [K. P. Bennett, \"Decision Tree\n",
      "Construction Via Linear Programming.\" Proceedings of the 4th\n",
      "Midwest Artificial Intelligence and Cognitive Science Society,\n",
      "pp. 97-101, 1992], a classification method which uses linear\n",
      "programming to construct a decision tree.  Relevant features\n",
      "were selected using an exhaustive search in the space of 1-4\n",
      "features and 1-3 separating planes.\n",
      "\n",
      "The actual linear program used to obtain the separating plane\n",
      "in the 3-dimensional space is that described in:\n",
      "[K. P. Bennett and O. L. Mangasarian: \"Robust Linear\n",
      "Programming Discrimination of Two Linearly Inseparable Sets\",\n",
      "Optimization Methods and Software 1, 1992, 23-34].\n",
      "\n",
      "This database is also available through the UW CS ftp server:\n",
      "\n",
      "ftp ftp.cs.wisc.edu\n",
      "cd math-prog/cpo-dataset/machine-learn/WDBC/\n",
      "\n",
      ".. topic:: References\n",
      "\n",
      "   - W.N. Street, W.H. Wolberg and O.L. Mangasarian. Nuclear feature extraction \n",
      "     for breast tumor diagnosis. IS&T/SPIE 1993 International Symposium on \n",
      "     Electronic Imaging: Science and Technology, volume 1905, pages 861-870,\n",
      "     San Jose, CA, 1993.\n",
      "   - O.L. Mangasarian, W.N. Street and W.H. Wolberg. Breast cancer diagnosis and \n",
      "     prognosis via linear programming. Operations Research, 43(4), pages 570-577, \n",
      "     July-August 1995.\n",
      "   - W.H. Wolberg, W.N. Street, and O.L. Mangasarian. Machine learning techniques\n",
      "     to diagnose breast cancer from fine-needle aspirates. Cancer Letters 77 (1994) \n",
      "     163-171.\n"
     ]
    }
   ],
   "source": [
    "print(b_cancer.DESCR)"
   ]
  },
  {
   "cell_type": "code",
   "execution_count": 5,
   "metadata": {},
   "outputs": [
    {
     "data": {
      "text/plain": [
       "array(['mean radius', 'mean texture', 'mean perimeter', 'mean area',\n",
       "       'mean smoothness', 'mean compactness', 'mean concavity',\n",
       "       'mean concave points', 'mean symmetry', 'mean fractal dimension',\n",
       "       'radius error', 'texture error', 'perimeter error', 'area error',\n",
       "       'smoothness error', 'compactness error', 'concavity error',\n",
       "       'concave points error', 'symmetry error',\n",
       "       'fractal dimension error', 'worst radius', 'worst texture',\n",
       "       'worst perimeter', 'worst area', 'worst smoothness',\n",
       "       'worst compactness', 'worst concavity', 'worst concave points',\n",
       "       'worst symmetry', 'worst fractal dimension'], dtype='<U23')"
      ]
     },
     "execution_count": 5,
     "metadata": {},
     "output_type": "execute_result"
    }
   ],
   "source": [
    "b_cancer.feature_names #30개"
   ]
  },
  {
   "cell_type": "code",
   "execution_count": 10,
   "metadata": {},
   "outputs": [
    {
     "data": {
      "text/html": [
       "<div>\n",
       "<style scoped>\n",
       "    .dataframe tbody tr th:only-of-type {\n",
       "        vertical-align: middle;\n",
       "    }\n",
       "\n",
       "    .dataframe tbody tr th {\n",
       "        vertical-align: top;\n",
       "    }\n",
       "\n",
       "    .dataframe thead th {\n",
       "        text-align: right;\n",
       "    }\n",
       "</style>\n",
       "<table border=\"1\" class=\"dataframe\">\n",
       "  <thead>\n",
       "    <tr style=\"text-align: right;\">\n",
       "      <th></th>\n",
       "      <th>mean radius</th>\n",
       "      <th>mean texture</th>\n",
       "      <th>mean perimeter</th>\n",
       "      <th>mean area</th>\n",
       "      <th>mean smoothness</th>\n",
       "      <th>mean compactness</th>\n",
       "      <th>mean concavity</th>\n",
       "      <th>mean concave points</th>\n",
       "      <th>mean symmetry</th>\n",
       "      <th>mean fractal dimension</th>\n",
       "      <th>...</th>\n",
       "      <th>worst texture</th>\n",
       "      <th>worst perimeter</th>\n",
       "      <th>worst area</th>\n",
       "      <th>worst smoothness</th>\n",
       "      <th>worst compactness</th>\n",
       "      <th>worst concavity</th>\n",
       "      <th>worst concave points</th>\n",
       "      <th>worst symmetry</th>\n",
       "      <th>worst fractal dimension</th>\n",
       "      <th>diagnosis</th>\n",
       "    </tr>\n",
       "  </thead>\n",
       "  <tbody>\n",
       "    <tr>\n",
       "      <th>0</th>\n",
       "      <td>17.99</td>\n",
       "      <td>10.38</td>\n",
       "      <td>122.80</td>\n",
       "      <td>1001.0</td>\n",
       "      <td>0.11840</td>\n",
       "      <td>0.27760</td>\n",
       "      <td>0.3001</td>\n",
       "      <td>0.14710</td>\n",
       "      <td>0.2419</td>\n",
       "      <td>0.07871</td>\n",
       "      <td>...</td>\n",
       "      <td>17.33</td>\n",
       "      <td>184.60</td>\n",
       "      <td>2019.0</td>\n",
       "      <td>0.1622</td>\n",
       "      <td>0.6656</td>\n",
       "      <td>0.7119</td>\n",
       "      <td>0.2654</td>\n",
       "      <td>0.4601</td>\n",
       "      <td>0.11890</td>\n",
       "      <td>0</td>\n",
       "    </tr>\n",
       "    <tr>\n",
       "      <th>1</th>\n",
       "      <td>20.57</td>\n",
       "      <td>17.77</td>\n",
       "      <td>132.90</td>\n",
       "      <td>1326.0</td>\n",
       "      <td>0.08474</td>\n",
       "      <td>0.07864</td>\n",
       "      <td>0.0869</td>\n",
       "      <td>0.07017</td>\n",
       "      <td>0.1812</td>\n",
       "      <td>0.05667</td>\n",
       "      <td>...</td>\n",
       "      <td>23.41</td>\n",
       "      <td>158.80</td>\n",
       "      <td>1956.0</td>\n",
       "      <td>0.1238</td>\n",
       "      <td>0.1866</td>\n",
       "      <td>0.2416</td>\n",
       "      <td>0.1860</td>\n",
       "      <td>0.2750</td>\n",
       "      <td>0.08902</td>\n",
       "      <td>0</td>\n",
       "    </tr>\n",
       "    <tr>\n",
       "      <th>2</th>\n",
       "      <td>19.69</td>\n",
       "      <td>21.25</td>\n",
       "      <td>130.00</td>\n",
       "      <td>1203.0</td>\n",
       "      <td>0.10960</td>\n",
       "      <td>0.15990</td>\n",
       "      <td>0.1974</td>\n",
       "      <td>0.12790</td>\n",
       "      <td>0.2069</td>\n",
       "      <td>0.05999</td>\n",
       "      <td>...</td>\n",
       "      <td>25.53</td>\n",
       "      <td>152.50</td>\n",
       "      <td>1709.0</td>\n",
       "      <td>0.1444</td>\n",
       "      <td>0.4245</td>\n",
       "      <td>0.4504</td>\n",
       "      <td>0.2430</td>\n",
       "      <td>0.3613</td>\n",
       "      <td>0.08758</td>\n",
       "      <td>0</td>\n",
       "    </tr>\n",
       "    <tr>\n",
       "      <th>3</th>\n",
       "      <td>11.42</td>\n",
       "      <td>20.38</td>\n",
       "      <td>77.58</td>\n",
       "      <td>386.1</td>\n",
       "      <td>0.14250</td>\n",
       "      <td>0.28390</td>\n",
       "      <td>0.2414</td>\n",
       "      <td>0.10520</td>\n",
       "      <td>0.2597</td>\n",
       "      <td>0.09744</td>\n",
       "      <td>...</td>\n",
       "      <td>26.50</td>\n",
       "      <td>98.87</td>\n",
       "      <td>567.7</td>\n",
       "      <td>0.2098</td>\n",
       "      <td>0.8663</td>\n",
       "      <td>0.6869</td>\n",
       "      <td>0.2575</td>\n",
       "      <td>0.6638</td>\n",
       "      <td>0.17300</td>\n",
       "      <td>0</td>\n",
       "    </tr>\n",
       "    <tr>\n",
       "      <th>4</th>\n",
       "      <td>20.29</td>\n",
       "      <td>14.34</td>\n",
       "      <td>135.10</td>\n",
       "      <td>1297.0</td>\n",
       "      <td>0.10030</td>\n",
       "      <td>0.13280</td>\n",
       "      <td>0.1980</td>\n",
       "      <td>0.10430</td>\n",
       "      <td>0.1809</td>\n",
       "      <td>0.05883</td>\n",
       "      <td>...</td>\n",
       "      <td>16.67</td>\n",
       "      <td>152.20</td>\n",
       "      <td>1575.0</td>\n",
       "      <td>0.1374</td>\n",
       "      <td>0.2050</td>\n",
       "      <td>0.4000</td>\n",
       "      <td>0.1625</td>\n",
       "      <td>0.2364</td>\n",
       "      <td>0.07678</td>\n",
       "      <td>0</td>\n",
       "    </tr>\n",
       "  </tbody>\n",
       "</table>\n",
       "<p>5 rows × 31 columns</p>\n",
       "</div>"
      ],
      "text/plain": [
       "   mean radius  mean texture  mean perimeter  mean area  mean smoothness  \\\n",
       "0        17.99         10.38          122.80     1001.0          0.11840   \n",
       "1        20.57         17.77          132.90     1326.0          0.08474   \n",
       "2        19.69         21.25          130.00     1203.0          0.10960   \n",
       "3        11.42         20.38           77.58      386.1          0.14250   \n",
       "4        20.29         14.34          135.10     1297.0          0.10030   \n",
       "\n",
       "   mean compactness  mean concavity  mean concave points  mean symmetry  \\\n",
       "0           0.27760          0.3001              0.14710         0.2419   \n",
       "1           0.07864          0.0869              0.07017         0.1812   \n",
       "2           0.15990          0.1974              0.12790         0.2069   \n",
       "3           0.28390          0.2414              0.10520         0.2597   \n",
       "4           0.13280          0.1980              0.10430         0.1809   \n",
       "\n",
       "   mean fractal dimension  ...  worst texture  worst perimeter  worst area  \\\n",
       "0                 0.07871  ...          17.33           184.60      2019.0   \n",
       "1                 0.05667  ...          23.41           158.80      1956.0   \n",
       "2                 0.05999  ...          25.53           152.50      1709.0   \n",
       "3                 0.09744  ...          26.50            98.87       567.7   \n",
       "4                 0.05883  ...          16.67           152.20      1575.0   \n",
       "\n",
       "   worst smoothness  worst compactness  worst concavity  worst concave points  \\\n",
       "0            0.1622             0.6656           0.7119                0.2654   \n",
       "1            0.1238             0.1866           0.2416                0.1860   \n",
       "2            0.1444             0.4245           0.4504                0.2430   \n",
       "3            0.2098             0.8663           0.6869                0.2575   \n",
       "4            0.1374             0.2050           0.4000                0.1625   \n",
       "\n",
       "   worst symmetry  worst fractal dimension  diagnosis  \n",
       "0          0.4601                  0.11890          0  \n",
       "1          0.2750                  0.08902          0  \n",
       "2          0.3613                  0.08758          0  \n",
       "3          0.6638                  0.17300          0  \n",
       "4          0.2364                  0.07678          0  \n",
       "\n",
       "[5 rows x 31 columns]"
      ]
     },
     "execution_count": 10,
     "metadata": {},
     "output_type": "execute_result"
    }
   ],
   "source": [
    "#데이터프레임으로 전환하고, 타겟(class) 추가\n",
    "b_cancer_df = pd.DataFrame(b_cancer.data, columns=b_cancer.feature_names)\n",
    "b_cancer_df['diagnosis'] = b_cancer.target\n",
    "b_cancer_df.head(5)"
   ]
  },
  {
   "cell_type": "code",
   "execution_count": 11,
   "metadata": {},
   "outputs": [
    {
     "data": {
      "text/plain": [
       "(569, 31)"
      ]
     },
     "execution_count": 11,
     "metadata": {},
     "output_type": "execute_result"
    }
   ],
   "source": [
    "b_cancer_df.shape"
   ]
  },
  {
   "cell_type": "code",
   "execution_count": 12,
   "metadata": {
    "scrolled": true
   },
   "outputs": [
    {
     "data": {
      "text/plain": [
       "<bound method DataFrame.info of      mean radius  mean texture  mean perimeter  mean area  mean smoothness  \\\n",
       "0         17.990         10.38          122.80     1001.0          0.11840   \n",
       "1         20.570         17.77          132.90     1326.0          0.08474   \n",
       "2         19.690         21.25          130.00     1203.0          0.10960   \n",
       "3         11.420         20.38           77.58      386.1          0.14250   \n",
       "4         20.290         14.34          135.10     1297.0          0.10030   \n",
       "5         12.450         15.70           82.57      477.1          0.12780   \n",
       "6         18.250         19.98          119.60     1040.0          0.09463   \n",
       "7         13.710         20.83           90.20      577.9          0.11890   \n",
       "8         13.000         21.82           87.50      519.8          0.12730   \n",
       "9         12.460         24.04           83.97      475.9          0.11860   \n",
       "10        16.020         23.24          102.70      797.8          0.08206   \n",
       "11        15.780         17.89          103.60      781.0          0.09710   \n",
       "12        19.170         24.80          132.40     1123.0          0.09740   \n",
       "13        15.850         23.95          103.70      782.7          0.08401   \n",
       "14        13.730         22.61           93.60      578.3          0.11310   \n",
       "15        14.540         27.54           96.73      658.8          0.11390   \n",
       "16        14.680         20.13           94.74      684.5          0.09867   \n",
       "17        16.130         20.68          108.10      798.8          0.11700   \n",
       "18        19.810         22.15          130.00     1260.0          0.09831   \n",
       "19        13.540         14.36           87.46      566.3          0.09779   \n",
       "20        13.080         15.71           85.63      520.0          0.10750   \n",
       "21         9.504         12.44           60.34      273.9          0.10240   \n",
       "22        15.340         14.26          102.50      704.4          0.10730   \n",
       "23        21.160         23.04          137.20     1404.0          0.09428   \n",
       "24        16.650         21.38          110.00      904.6          0.11210   \n",
       "25        17.140         16.40          116.00      912.7          0.11860   \n",
       "26        14.580         21.53           97.41      644.8          0.10540   \n",
       "27        18.610         20.25          122.10     1094.0          0.09440   \n",
       "28        15.300         25.27          102.40      732.4          0.10820   \n",
       "29        17.570         15.05          115.00      955.1          0.09847   \n",
       "..           ...           ...             ...        ...              ...   \n",
       "539        7.691         25.44           48.34      170.4          0.08668   \n",
       "540       11.540         14.44           74.65      402.9          0.09984   \n",
       "541       14.470         24.99           95.81      656.4          0.08837   \n",
       "542       14.740         25.42           94.70      668.6          0.08275   \n",
       "543       13.210         28.06           84.88      538.4          0.08671   \n",
       "544       13.870         20.70           89.77      584.8          0.09578   \n",
       "545       13.620         23.23           87.19      573.2          0.09246   \n",
       "546       10.320         16.35           65.31      324.9          0.09434   \n",
       "547       10.260         16.58           65.85      320.8          0.08877   \n",
       "548        9.683         19.34           61.05      285.7          0.08491   \n",
       "549       10.820         24.21           68.89      361.6          0.08192   \n",
       "550       10.860         21.48           68.51      360.5          0.07431   \n",
       "551       11.130         22.44           71.49      378.4          0.09566   \n",
       "552       12.770         29.43           81.35      507.9          0.08276   \n",
       "553        9.333         21.94           59.01      264.0          0.09240   \n",
       "554       12.880         28.92           82.50      514.3          0.08123   \n",
       "555       10.290         27.61           65.67      321.4          0.09030   \n",
       "556       10.160         19.59           64.73      311.7          0.10030   \n",
       "557        9.423         27.88           59.26      271.3          0.08123   \n",
       "558       14.590         22.68           96.39      657.1          0.08473   \n",
       "559       11.510         23.93           74.52      403.5          0.09261   \n",
       "560       14.050         27.15           91.38      600.4          0.09929   \n",
       "561       11.200         29.37           70.67      386.0          0.07449   \n",
       "562       15.220         30.62          103.40      716.9          0.10480   \n",
       "563       20.920         25.09          143.00     1347.0          0.10990   \n",
       "564       21.560         22.39          142.00     1479.0          0.11100   \n",
       "565       20.130         28.25          131.20     1261.0          0.09780   \n",
       "566       16.600         28.08          108.30      858.1          0.08455   \n",
       "567       20.600         29.33          140.10     1265.0          0.11780   \n",
       "568        7.760         24.54           47.92      181.0          0.05263   \n",
       "\n",
       "     mean compactness  mean concavity  mean concave points  mean symmetry  \\\n",
       "0             0.27760        0.300100             0.147100         0.2419   \n",
       "1             0.07864        0.086900             0.070170         0.1812   \n",
       "2             0.15990        0.197400             0.127900         0.2069   \n",
       "3             0.28390        0.241400             0.105200         0.2597   \n",
       "4             0.13280        0.198000             0.104300         0.1809   \n",
       "5             0.17000        0.157800             0.080890         0.2087   \n",
       "6             0.10900        0.112700             0.074000         0.1794   \n",
       "7             0.16450        0.093660             0.059850         0.2196   \n",
       "8             0.19320        0.185900             0.093530         0.2350   \n",
       "9             0.23960        0.227300             0.085430         0.2030   \n",
       "10            0.06669        0.032990             0.033230         0.1528   \n",
       "11            0.12920        0.099540             0.066060         0.1842   \n",
       "12            0.24580        0.206500             0.111800         0.2397   \n",
       "13            0.10020        0.099380             0.053640         0.1847   \n",
       "14            0.22930        0.212800             0.080250         0.2069   \n",
       "15            0.15950        0.163900             0.073640         0.2303   \n",
       "16            0.07200        0.073950             0.052590         0.1586   \n",
       "17            0.20220        0.172200             0.102800         0.2164   \n",
       "18            0.10270        0.147900             0.094980         0.1582   \n",
       "19            0.08129        0.066640             0.047810         0.1885   \n",
       "20            0.12700        0.045680             0.031100         0.1967   \n",
       "21            0.06492        0.029560             0.020760         0.1815   \n",
       "22            0.21350        0.207700             0.097560         0.2521   \n",
       "23            0.10220        0.109700             0.086320         0.1769   \n",
       "24            0.14570        0.152500             0.091700         0.1995   \n",
       "25            0.22760        0.222900             0.140100         0.3040   \n",
       "26            0.18680        0.142500             0.087830         0.2252   \n",
       "27            0.10660        0.149000             0.077310         0.1697   \n",
       "28            0.16970        0.168300             0.087510         0.1926   \n",
       "29            0.11570        0.098750             0.079530         0.1739   \n",
       "..                ...             ...                  ...            ...   \n",
       "539           0.11990        0.092520             0.013640         0.2037   \n",
       "540           0.11200        0.067370             0.025940         0.1818   \n",
       "541           0.12300        0.100900             0.038900         0.1872   \n",
       "542           0.07214        0.041050             0.030270         0.1840   \n",
       "543           0.06877        0.029870             0.032750         0.1628   \n",
       "544           0.10180        0.036880             0.023690         0.1620   \n",
       "545           0.06747        0.029740             0.024430         0.1664   \n",
       "546           0.04994        0.010120             0.005495         0.1885   \n",
       "547           0.08066        0.043580             0.024380         0.1669   \n",
       "548           0.05030        0.023370             0.009615         0.1580   \n",
       "549           0.06602        0.015480             0.008160         0.1976   \n",
       "550           0.04227        0.000000             0.000000         0.1661   \n",
       "551           0.08194        0.048240             0.022570         0.2030   \n",
       "552           0.04234        0.019970             0.014990         0.1539   \n",
       "553           0.05605        0.039960             0.012820         0.1692   \n",
       "554           0.05824        0.061950             0.023430         0.1566   \n",
       "555           0.07658        0.059990             0.027380         0.1593   \n",
       "556           0.07504        0.005025             0.011160         0.1791   \n",
       "557           0.04971        0.000000             0.000000         0.1742   \n",
       "558           0.13300        0.102900             0.037360         0.1454   \n",
       "559           0.10210        0.111200             0.041050         0.1388   \n",
       "560           0.11260        0.044620             0.043040         0.1537   \n",
       "561           0.03558        0.000000             0.000000         0.1060   \n",
       "562           0.20870        0.255000             0.094290         0.2128   \n",
       "563           0.22360        0.317400             0.147400         0.2149   \n",
       "564           0.11590        0.243900             0.138900         0.1726   \n",
       "565           0.10340        0.144000             0.097910         0.1752   \n",
       "566           0.10230        0.092510             0.053020         0.1590   \n",
       "567           0.27700        0.351400             0.152000         0.2397   \n",
       "568           0.04362        0.000000             0.000000         0.1587   \n",
       "\n",
       "     mean fractal dimension  ...  worst texture  worst perimeter  worst area  \\\n",
       "0                   0.07871  ...          17.33           184.60      2019.0   \n",
       "1                   0.05667  ...          23.41           158.80      1956.0   \n",
       "2                   0.05999  ...          25.53           152.50      1709.0   \n",
       "3                   0.09744  ...          26.50            98.87       567.7   \n",
       "4                   0.05883  ...          16.67           152.20      1575.0   \n",
       "5                   0.07613  ...          23.75           103.40       741.6   \n",
       "6                   0.05742  ...          27.66           153.20      1606.0   \n",
       "7                   0.07451  ...          28.14           110.60       897.0   \n",
       "8                   0.07389  ...          30.73           106.20       739.3   \n",
       "9                   0.08243  ...          40.68            97.65       711.4   \n",
       "10                  0.05697  ...          33.88           123.80      1150.0   \n",
       "11                  0.06082  ...          27.28           136.50      1299.0   \n",
       "12                  0.07800  ...          29.94           151.70      1332.0   \n",
       "13                  0.05338  ...          27.66           112.00       876.5   \n",
       "14                  0.07682  ...          32.01           108.80       697.7   \n",
       "15                  0.07077  ...          37.13           124.10       943.2   \n",
       "16                  0.05922  ...          30.88           123.40      1138.0   \n",
       "17                  0.07356  ...          31.48           136.80      1315.0   \n",
       "18                  0.05395  ...          30.88           186.80      2398.0   \n",
       "19                  0.05766  ...          19.26            99.70       711.2   \n",
       "20                  0.06811  ...          20.49            96.09       630.5   \n",
       "21                  0.06905  ...          15.66            65.13       314.9   \n",
       "22                  0.07032  ...          19.08           125.10       980.9   \n",
       "23                  0.05278  ...          35.59           188.00      2615.0   \n",
       "24                  0.06330  ...          31.56           177.00      2215.0   \n",
       "25                  0.07413  ...          21.40           152.40      1461.0   \n",
       "26                  0.06924  ...          33.21           122.40       896.9   \n",
       "27                  0.05699  ...          27.26           139.90      1403.0   \n",
       "28                  0.06540  ...          36.71           149.30      1269.0   \n",
       "29                  0.06149  ...          19.52           134.90      1227.0   \n",
       "..                      ...  ...            ...              ...         ...   \n",
       "539                 0.07751  ...          31.89            54.49       223.6   \n",
       "540                 0.06782  ...          19.68            78.78       457.8   \n",
       "541                 0.06341  ...          31.73           113.50       808.9   \n",
       "542                 0.05680  ...          32.29           107.40       826.4   \n",
       "543                 0.05781  ...          37.17            92.48       629.6   \n",
       "544                 0.06688  ...          24.75            99.17       688.6   \n",
       "545                 0.05801  ...          29.09            97.58       729.8   \n",
       "546                 0.06201  ...          21.77            71.12       384.9   \n",
       "547                 0.06714  ...          22.04            71.08       357.4   \n",
       "548                 0.06235  ...          25.59            69.10       364.2   \n",
       "549                 0.06328  ...          31.45            83.90       505.6   \n",
       "550                 0.05948  ...          24.77            74.08       412.3   \n",
       "551                 0.06552  ...          28.26            77.80       436.6   \n",
       "552                 0.05637  ...          36.00            88.10       594.7   \n",
       "553                 0.06576  ...          25.05            62.86       295.8   \n",
       "554                 0.05708  ...          35.74            88.84       595.7   \n",
       "555                 0.06127  ...          34.91            69.57       357.6   \n",
       "556                 0.06331  ...          22.88            67.88       347.3   \n",
       "557                 0.06059  ...          34.24            66.50       330.6   \n",
       "558                 0.06147  ...          27.27           105.90       733.5   \n",
       "559                 0.06570  ...          37.16            82.28       474.2   \n",
       "560                 0.06171  ...          33.17           100.20       706.7   \n",
       "561                 0.05502  ...          38.30            75.19       439.6   \n",
       "562                 0.07152  ...          42.79           128.70       915.0   \n",
       "563                 0.06879  ...          29.41           179.10      1819.0   \n",
       "564                 0.05623  ...          26.40           166.10      2027.0   \n",
       "565                 0.05533  ...          38.25           155.00      1731.0   \n",
       "566                 0.05648  ...          34.12           126.70      1124.0   \n",
       "567                 0.07016  ...          39.42           184.60      1821.0   \n",
       "568                 0.05884  ...          30.37            59.16       268.6   \n",
       "\n",
       "     worst smoothness  worst compactness  worst concavity  \\\n",
       "0             0.16220            0.66560          0.71190   \n",
       "1             0.12380            0.18660          0.24160   \n",
       "2             0.14440            0.42450          0.45040   \n",
       "3             0.20980            0.86630          0.68690   \n",
       "4             0.13740            0.20500          0.40000   \n",
       "5             0.17910            0.52490          0.53550   \n",
       "6             0.14420            0.25760          0.37840   \n",
       "7             0.16540            0.36820          0.26780   \n",
       "8             0.17030            0.54010          0.53900   \n",
       "9             0.18530            1.05800          1.10500   \n",
       "10            0.11810            0.15510          0.14590   \n",
       "11            0.13960            0.56090          0.39650   \n",
       "12            0.10370            0.39030          0.36390   \n",
       "13            0.11310            0.19240          0.23220   \n",
       "14            0.16510            0.77250          0.69430   \n",
       "15            0.16780            0.65770          0.70260   \n",
       "16            0.14640            0.18710          0.29140   \n",
       "17            0.17890            0.42330          0.47840   \n",
       "18            0.15120            0.31500          0.53720   \n",
       "19            0.14400            0.17730          0.23900   \n",
       "20            0.13120            0.27760          0.18900   \n",
       "21            0.13240            0.11480          0.08867   \n",
       "22            0.13900            0.59540          0.63050   \n",
       "23            0.14010            0.26000          0.31550   \n",
       "24            0.18050            0.35780          0.46950   \n",
       "25            0.15450            0.39490          0.38530   \n",
       "26            0.15250            0.66430          0.55390   \n",
       "27            0.13380            0.21170          0.34460   \n",
       "28            0.16410            0.61100          0.63350   \n",
       "29            0.12550            0.28120          0.24890   \n",
       "..                ...                ...              ...   \n",
       "539           0.15960            0.30640          0.33930   \n",
       "540           0.13450            0.21180          0.17970   \n",
       "541           0.13400            0.42020          0.40400   \n",
       "542           0.10600            0.13760          0.16110   \n",
       "543           0.10720            0.13810          0.10620   \n",
       "544           0.12640            0.20370          0.13770   \n",
       "545           0.12160            0.15170          0.10490   \n",
       "546           0.12850            0.08842          0.04384   \n",
       "547           0.14610            0.22460          0.17830   \n",
       "548           0.11990            0.09546          0.09350   \n",
       "549           0.12040            0.16330          0.06194   \n",
       "550           0.10010            0.07348          0.00000   \n",
       "551           0.10870            0.17820          0.15640   \n",
       "552           0.12340            0.10640          0.08653   \n",
       "553           0.11030            0.08298          0.07993   \n",
       "554           0.12270            0.16200          0.24390   \n",
       "555           0.13840            0.17100          0.20000   \n",
       "556           0.12650            0.12000          0.01005   \n",
       "557           0.10730            0.07158          0.00000   \n",
       "558           0.10260            0.31710          0.36620   \n",
       "559           0.12980            0.25170          0.36300   \n",
       "560           0.12410            0.22640          0.13260   \n",
       "561           0.09267            0.05494          0.00000   \n",
       "562           0.14170            0.79170          1.17000   \n",
       "563           0.14070            0.41860          0.65990   \n",
       "564           0.14100            0.21130          0.41070   \n",
       "565           0.11660            0.19220          0.32150   \n",
       "566           0.11390            0.30940          0.34030   \n",
       "567           0.16500            0.86810          0.93870   \n",
       "568           0.08996            0.06444          0.00000   \n",
       "\n",
       "     worst concave points  worst symmetry  worst fractal dimension  diagnosis  \n",
       "0                 0.26540          0.4601                  0.11890          0  \n",
       "1                 0.18600          0.2750                  0.08902          0  \n",
       "2                 0.24300          0.3613                  0.08758          0  \n",
       "3                 0.25750          0.6638                  0.17300          0  \n",
       "4                 0.16250          0.2364                  0.07678          0  \n",
       "5                 0.17410          0.3985                  0.12440          0  \n",
       "6                 0.19320          0.3063                  0.08368          0  \n",
       "7                 0.15560          0.3196                  0.11510          0  \n",
       "8                 0.20600          0.4378                  0.10720          0  \n",
       "9                 0.22100          0.4366                  0.20750          0  \n",
       "10                0.09975          0.2948                  0.08452          0  \n",
       "11                0.18100          0.3792                  0.10480          0  \n",
       "12                0.17670          0.3176                  0.10230          0  \n",
       "13                0.11190          0.2809                  0.06287          0  \n",
       "14                0.22080          0.3596                  0.14310          0  \n",
       "15                0.17120          0.4218                  0.13410          0  \n",
       "16                0.16090          0.3029                  0.08216          0  \n",
       "17                0.20730          0.3706                  0.11420          0  \n",
       "18                0.23880          0.2768                  0.07615          0  \n",
       "19                0.12880          0.2977                  0.07259          1  \n",
       "20                0.07283          0.3184                  0.08183          1  \n",
       "21                0.06227          0.2450                  0.07773          1  \n",
       "22                0.23930          0.4667                  0.09946          0  \n",
       "23                0.20090          0.2822                  0.07526          0  \n",
       "24                0.20950          0.3613                  0.09564          0  \n",
       "25                0.25500          0.4066                  0.10590          0  \n",
       "26                0.27010          0.4264                  0.12750          0  \n",
       "27                0.14900          0.2341                  0.07421          0  \n",
       "28                0.20240          0.4027                  0.09876          0  \n",
       "29                0.14560          0.2756                  0.07919          0  \n",
       "..                    ...             ...                      ...        ...  \n",
       "539               0.05000          0.2790                  0.10660          1  \n",
       "540               0.06918          0.2329                  0.08134          1  \n",
       "541               0.12050          0.3187                  0.10230          1  \n",
       "542               0.10950          0.2722                  0.06956          1  \n",
       "543               0.07958          0.2473                  0.06443          1  \n",
       "544               0.06845          0.2249                  0.08492          1  \n",
       "545               0.07174          0.2642                  0.06953          1  \n",
       "546               0.02381          0.2681                  0.07399          1  \n",
       "547               0.08333          0.2691                  0.09479          1  \n",
       "548               0.03846          0.2552                  0.07920          1  \n",
       "549               0.03264          0.3059                  0.07626          1  \n",
       "550               0.00000          0.2458                  0.06592          1  \n",
       "551               0.06413          0.3169                  0.08032          1  \n",
       "552               0.06498          0.2407                  0.06484          1  \n",
       "553               0.02564          0.2435                  0.07393          1  \n",
       "554               0.06493          0.2372                  0.07242          1  \n",
       "555               0.09127          0.2226                  0.08283          1  \n",
       "556               0.02232          0.2262                  0.06742          1  \n",
       "557               0.00000          0.2475                  0.06969          1  \n",
       "558               0.11050          0.2258                  0.08004          1  \n",
       "559               0.09653          0.2112                  0.08732          1  \n",
       "560               0.10480          0.2250                  0.08321          1  \n",
       "561               0.00000          0.1566                  0.05905          1  \n",
       "562               0.23560          0.4089                  0.14090          0  \n",
       "563               0.25420          0.2929                  0.09873          0  \n",
       "564               0.22160          0.2060                  0.07115          0  \n",
       "565               0.16280          0.2572                  0.06637          0  \n",
       "566               0.14180          0.2218                  0.07820          0  \n",
       "567               0.26500          0.4087                  0.12400          0  \n",
       "568               0.00000          0.2871                  0.07039          1  \n",
       "\n",
       "[569 rows x 31 columns]>"
      ]
     },
     "execution_count": 12,
     "metadata": {},
     "output_type": "execute_result"
    }
   ],
   "source": [
    "b_cancer_df.info"
   ]
  },
  {
   "cell_type": "markdown",
   "metadata": {},
   "source": [
    "#### 데이터 준비, 분할 및 표준화(스케일링)하기"
   ]
  },
  {
   "cell_type": "code",
   "execution_count": 14,
   "metadata": {},
   "outputs": [],
   "source": [
    "from sklearn.model_selection import train_test_split\n",
    "\n",
    "X = b_cancer.data\n",
    "y = b_cancer.target\n",
    "\n",
    "X_train, X_test, y_train, y_test = train_test_split(X, y, test_size=0.3, \\\n",
    "                                                     random_state=0 )\n",
    "                                        \n",
    "from sklearn.preprocessing import StandardScaler\n",
    "scaler = StandardScaler()\n",
    "\n",
    "X_train_scaled = scaler.fit_transform(X_train)\n",
    "X_test_scaled = scaler.transform(X_test)"
   ]
  },
  {
   "cell_type": "code",
   "execution_count": null,
   "metadata": {
    "scrolled": true
   },
   "outputs": [],
   "source": [
    "# 스케일링 전 X_train\n",
    "round(pd.DataFrame(X_train).describe, 3)"
   ]
  },
  {
   "cell_type": "code",
   "execution_count": null,
   "metadata": {},
   "outputs": [],
   "source": [
    "# 스케일링 후 X_train_scaled(평균, 표준편차))\n",
    "round(pd.DataFrame(X_train_scaled).describe(), 3)"
   ]
  },
  {
   "cell_type": "code",
   "execution_count": 18,
   "metadata": {},
   "outputs": [
    {
     "data": {
      "text/plain": [
       "<bound method NDFrame.describe of            0         1         2         3         4         5         6   \\\n",
       "0   -0.749980 -1.099787 -0.741586 -0.701887  0.584593 -0.427726 -0.457550   \n",
       "1   -1.028214 -0.139262 -1.029804 -0.894732  0.742882 -0.731843 -0.843301   \n",
       "2   -0.538522 -0.299349 -0.568574 -0.550561 -0.714814 -0.731647 -0.639856   \n",
       "3    1.147577 -0.146430  1.061698  1.035628 -0.762301 -0.380637 -0.091016   \n",
       "4   -2.004538 -1.376954 -1.962370 -1.415904  1.476766 -0.557221 -1.137578   \n",
       "5   -1.223813  0.178524 -1.221815 -1.003446  0.426304 -1.002017 -1.050089   \n",
       "6   -0.307588 -0.832178 -0.271059 -0.387490  0.793246  0.449701 -0.552354   \n",
       "7   -0.844580 -1.460582 -0.867707 -0.764712  0.076630 -1.038903 -0.883657   \n",
       "8    0.254445  0.675513  0.199065  0.139146 -0.425577 -0.652773 -0.464596   \n",
       "9    1.236612  1.413827  1.312323  1.164010  0.714102  1.660283  1.833383   \n",
       "10  -0.699898  0.197639 -0.692270 -0.671021  0.368744 -0.187375 -0.599500   \n",
       "11  -0.193512  0.742415 -0.219317 -0.275498 -0.644304 -0.531714 -0.528909   \n",
       "12  -0.160124  1.382765 -0.173234 -0.216224 -0.114756 -0.372200 -0.032596   \n",
       "13  -0.332629 -1.185805 -0.333715 -0.403059 -0.133463 -0.086919 -0.658689   \n",
       "14  -1.022650  0.931175 -1.030209 -0.895005  0.361550 -0.708495 -0.817934   \n",
       "15   0.159846 -1.063947  0.102453  0.018686 -0.555806 -0.515626 -0.547230   \n",
       "16  -0.457834 -0.686427 -0.448113 -0.506857  1.390426  0.086722 -0.378119   \n",
       "17   1.397988 -0.148819  1.340619  1.338826  0.634957  0.443815  0.557368   \n",
       "18  -0.955874 -1.008991 -0.973212 -0.837370 -1.334299 -1.033802 -0.849194   \n",
       "19  -1.117249 -1.030496 -1.123182 -0.955918  1.217748 -0.460492 -0.998703   \n",
       "20   1.130883  0.188082  1.102121  1.032897 -0.132743  0.096533  0.306265   \n",
       "21  -0.329847  0.627725 -0.195467 -0.388036  2.217845  1.748575  1.244059   \n",
       "22  -0.919703 -0.853683 -0.886302 -0.827537  0.303990  0.055330 -0.482276   \n",
       "23  -1.094991 -0.719878 -1.043548 -0.922320  0.692517  0.137736 -0.275884   \n",
       "24   1.542669  0.149852  1.550820  1.486328  0.699712  1.585726  1.958934   \n",
       "25   2.533183  1.786569  2.690758  2.794723  1.268112  2.046806  3.375874   \n",
       "26  -0.274200 -0.421207 -0.331694 -0.328489 -1.750166 -1.154468 -0.582077   \n",
       "27  -0.151777 -0.858461 -0.200318 -0.236437 -0.161523 -0.741261 -0.534803   \n",
       "28   0.223839  1.435331  0.129536  0.100905 -0.187425 -1.035372 -0.830361   \n",
       "29  -0.366017  0.082949 -0.390712 -0.416990 -0.368018 -0.495417 -0.907358   \n",
       "..        ...       ...       ...       ...       ...       ...       ...   \n",
       "368 -1.232717  2.152142 -1.239197 -1.013279 -1.196875 -1.134455 -0.940155   \n",
       "369 -0.680422 -1.075894 -0.647804 -0.644252 -1.114133 -0.146565 -0.275884   \n",
       "370 -1.660084  0.360116 -1.579157 -1.250921 -0.174474  0.518373  0.554806   \n",
       "371  1.450852  1.029139  1.486143  1.347021  0.447889  1.014770  1.487475   \n",
       "372 -0.271417  2.118691 -0.301376 -0.337230 -0.702583 -0.692798 -0.754902   \n",
       "373 -0.087783  0.360116 -0.103706 -0.210488 -0.050001 -0.044735 -0.665094   \n",
       "374  1.820904  2.849837  1.752937  2.068140 -0.128426  0.200521  0.613738   \n",
       "375 -0.813974  0.183303 -0.752500 -0.731387 -1.170973  0.275079  0.050550   \n",
       "376 -0.146212 -0.015015 -0.116237 -0.236437 -0.424858  0.208369  0.099617   \n",
       "377  0.212710 -0.101032  0.222510  0.075502 -1.086073  0.247610  0.021852   \n",
       "378  0.632844  0.219143  0.685761  0.467201  0.132031  1.010846  1.159504   \n",
       "379  0.065246  0.137905  0.086688 -0.052879  0.075191  0.196597  0.065155   \n",
       "380  0.095852  0.035162  0.077390 -0.005897 -0.906199 -0.511702 -0.007998   \n",
       "381 -0.496787 -0.361473 -0.439220 -0.530075  0.642152  0.539955 -0.145849   \n",
       "382 -0.627557  0.558434 -0.638911 -0.609835  0.086703 -0.502088 -0.711215   \n",
       "383  0.838737  1.272854  0.883836  0.730792  0.764466  1.548447  1.030109   \n",
       "384 -0.694333  1.253740 -0.645379 -0.697790  1.951632  1.002998 -0.559144   \n",
       "385 -0.980915 -0.965983 -1.004338 -0.852940 -0.615524 -1.198025 -1.137578   \n",
       "386  1.345123  1.289580  1.199137  1.131231 -0.445004  0.324130  0.743134   \n",
       "387 -0.850145  0.775866 -0.842644 -0.774272 -0.058635 -0.434397 -0.519557   \n",
       "388  0.126457 -0.559790  0.075773  0.011311 -0.724167 -0.727919 -0.472411   \n",
       "389 -1.554912 -0.141651 -1.546010 -1.203666  0.786051 -0.894889 -1.137578   \n",
       "390 -0.187947 -0.072359 -0.171213 -0.283419  0.678127  0.208369 -0.038361   \n",
       "391  0.204363 -1.018549  0.166322  0.068400 -1.114853 -0.364744 -0.427956   \n",
       "392  1.322864  0.505868  1.263815  1.278733 -0.459394 -0.023152  0.246052   \n",
       "393  1.286694  0.188082  1.154672  1.202251 -0.521270 -0.887630 -0.110105   \n",
       "394 -0.480093  1.158165 -0.338161 -0.507950  1.591885  2.658965  1.774450   \n",
       "395 -1.321473 -0.208553 -1.314385 -1.046877  0.318380 -0.873503 -0.790390   \n",
       "396 -1.242455 -0.232447 -1.277599 -1.020928 -1.940832 -1.582194 -1.137578   \n",
       "397 -0.744416  1.131882 -0.720162 -0.705711 -0.278081 -0.038849  0.287048   \n",
       "\n",
       "           7         8         9   ...        20        21        22  \\\n",
       "0   -0.760550 -0.099860  0.451444  ... -0.798483 -0.591967 -0.746602   \n",
       "1   -0.808805 -1.159759  0.489386  ... -1.068703 -0.161981 -1.074343   \n",
       "2   -0.668125  0.581758 -0.053477  ... -0.558512 -0.051227 -0.614110   \n",
       "3    0.221141 -0.663712 -1.225303  ...  0.998276  0.134448  0.914190   \n",
       "4   -1.263267  0.439011  2.266825  ... -1.699888 -0.976348 -1.665615   \n",
       "5   -1.060623 -1.630826  0.912585  ... -1.096935  0.123047 -1.131001   \n",
       "6   -0.469234  0.571052  0.797300  ... -0.375005 -0.821618 -0.338377   \n",
       "7   -0.807273  0.082142 -0.232973  ... -0.881162 -1.504058 -0.914831   \n",
       "8   -0.412043 -0.681556 -0.847342  ...  0.350959  1.002563  0.289504   \n",
       "9    1.912865  1.341888 -0.098716  ...  1.369324  1.380430  1.533064   \n",
       "10  -0.712550  0.185634  0.286542  ... -0.606909  0.533488 -0.602488   \n",
       "11  -0.399277  0.007200 -0.797725  ... -0.243928  1.023737 -0.253827   \n",
       "12  -0.117153 -0.706537 -0.574451  ...  0.127120  1.585650  0.025103   \n",
       "13  -0.727614 -0.553083  1.420425  ... -0.532297 -1.404705 -0.591447   \n",
       "14  -0.784550 -0.399630  0.425176  ... -1.094918 -0.214101 -1.093520   \n",
       "15  -0.362512 -1.020581 -0.514619  ...  0.183584 -1.238574  0.187811   \n",
       "16  -0.426086  0.485404  0.506897  ... -0.562545 -0.673404 -0.612076   \n",
       "17   1.033046  0.392618 -0.443113  ...  1.972277  0.424363  1.811993   \n",
       "18  -1.062206 -1.455960 -0.841505  ... -0.889229 -0.784158 -0.870086   \n",
       "19  -0.933909  3.340351  1.014737  ... -1.076769 -1.316754 -1.100493   \n",
       "20   0.626072 -0.046330 -0.762702  ...  1.314877  0.346184  1.320962   \n",
       "21   1.124705  1.937858  1.640781  ... -0.175365  0.846205 -0.044630   \n",
       "22  -0.862166  0.192772  0.835242  ... -0.891245 -1.007294 -0.783211   \n",
       "23  -0.250939 -0.228333  1.480257  ... -1.024338 -0.802074 -1.051971   \n",
       "24   1.223512 -0.264020  0.630939  ...  1.798852  0.009036  1.512726   \n",
       "25   2.872854  1.402555 -0.052018  ...  1.766587  1.163808  2.012474   \n",
       "26  -0.981143 -1.141916 -0.918848  ... -0.487932  0.372243 -0.565298   \n",
       "27  -0.310683 -0.321119 -0.882365  ... -0.304425 -1.056156 -0.395906   \n",
       "28  -0.523106 -0.863559 -1.110018  ... -0.276193 -0.054485 -0.354357   \n",
       "29  -0.729657  0.192772  0.120180  ... -0.385087 -0.188041 -0.365979   \n",
       "..        ...       ...       ...  ...       ...       ...       ...   \n",
       "368 -0.996973 -0.663712 -0.456247  ... -1.147349  1.854391 -1.153664   \n",
       "369 -0.589488 -1.099092  0.719957  ... -0.788400 -1.292323 -0.769555   \n",
       "370 -0.709742  1.481067  2.913299  ... -1.465563  0.681703 -1.442763   \n",
       "371  1.005472  0.610308 -0.386200  ...  1.066839  0.813630  1.079804   \n",
       "372 -0.427107 -0.638732 -0.705789  ... -0.401220  1.895110 -0.443266   \n",
       "373 -0.658423 -0.667281  0.617805  ... -0.264093 -0.127778 -0.248887   \n",
       "374  0.944196 -0.135547 -0.861935  ...  3.252795  3.522215  3.087514   \n",
       "375  0.163439  2.812186 -0.046181  ... -0.907378 -0.521931 -0.856139   \n",
       "376 -0.034686  0.146379 -0.122065  ... -0.245944 -0.005623 -0.184094   \n",
       "377 -0.353831 -0.224764  0.333240  ... -0.022106 -0.010509 -0.018480   \n",
       "378  1.000366 -0.046330  0.085157  ...  0.288445  0.474854  0.458024   \n",
       "379  0.227524  0.257008  0.182931  ... -0.005973  0.867379  0.051252   \n",
       "380 -0.516468 -1.191878 -0.756865  ... -0.012023  0.465081  0.010575   \n",
       "381 -0.548637  0.014338  1.221959  ... -0.701688 -0.427465 -0.526654   \n",
       "382 -0.750592 -0.424611 -0.103094  ... -0.542379  0.100245 -0.586798   \n",
       "383  0.764964  0.428305  0.324484  ...  1.403606  1.349484  1.274473   \n",
       "384 -0.106430  1.156316  1.664130  ... -0.681522  1.084000 -0.628057   \n",
       "385 -1.263267  0.431874 -0.422683  ... -0.971908 -1.031725 -1.003449   \n",
       "386  0.848452  0.521091 -0.927604  ...  1.653660  0.794086  1.312245   \n",
       "387 -0.687019  0.795879  0.419339  ... -0.875113  0.443908 -0.869795   \n",
       "388 -0.550680 -1.420273 -1.327455  ...  0.020242 -0.015395 -0.050441   \n",
       "389 -1.263267  1.270514  1.597002  ... -1.493795 -0.504015 -1.484311   \n",
       "390  0.110589 -0.003506 -0.270915  ... -0.314508  0.271262 -0.302349   \n",
       "391 -0.440894 -0.428179 -0.869231  ...  0.165435 -1.191341  0.123890   \n",
       "392  0.766751 -0.802891 -1.172768  ...  1.714156  0.170280  1.689962   \n",
       "393  0.228545 -0.917089 -1.851347  ...  0.726040 -0.201071  0.617827   \n",
       "394  0.917898  0.795879  2.887031  ... -0.256027  2.466795 -0.293051   \n",
       "395 -0.904293 -1.074111  1.013278  ... -0.875113 -0.083802 -0.928196   \n",
       "396 -1.263267 -0.549515  0.266111  ... -1.288912 -0.766242 -1.321603   \n",
       "397 -0.215195 -1.495216  0.445606  ... -0.782351  1.893481 -0.739628   \n",
       "\n",
       "           23        24        25        26        27        28        29  \n",
       "0   -0.714529  0.116328 -0.341255 -0.046272 -0.623597  0.077542  0.450628  \n",
       "1   -0.868941  0.382001 -0.970737 -0.954894 -0.761238 -1.071453 -0.295414  \n",
       "2   -0.552748 -0.471637 -0.485919 -0.384602 -0.504704  0.349008 -0.133716  \n",
       "3    0.863760 -0.397597 -0.057793  0.441794  0.638339  0.495789 -0.799466  \n",
       "4   -1.187480  1.126757 -0.867778 -1.391304 -1.756275  0.063338  0.563260  \n",
       "5   -0.884517 -0.040463 -1.033750 -1.285142 -1.393349 -1.511796  0.343573  \n",
       "6   -0.441712 -0.057884  0.157899 -0.412063 -0.646156  0.461067 -0.105279  \n",
       "7   -0.759413  0.068420 -1.066462 -1.022612 -0.917017 -0.051877 -0.892025  \n",
       "8    0.227353  0.277474 -0.310628  0.013830  0.575844 -0.342283 -0.278129  \n",
       "9    1.299196  0.721715  1.122974  1.786308  1.060560  0.871422  0.786292  \n",
       "10  -0.575524  0.978677  0.280407  0.037663 -0.518575  0.495789  0.322385  \n",
       "11  -0.327326 -0.711179 -0.536095 -0.208961  0.197828 -0.032938 -0.811175  \n",
       "12   0.020521 -0.262583 -0.384915  0.250609  0.048450 -0.380162 -0.543537  \n",
       "13  -0.532986 -0.798285 -0.364063 -0.640034 -0.864583 -0.725807  0.958026  \n",
       "14  -0.890211 -0.793929 -1.089726 -1.175871 -1.279944 -1.049357 -0.889237  \n",
       "15  -0.022520 -0.458571 -0.341907 -0.276834  0.150576  0.342695 -0.103049  \n",
       "16  -0.573180  1.109336 -0.510029 -0.412581 -0.474219  0.415296 -0.464918  \n",
       "17   2.094705  1.300969  0.636852  0.618472  1.430955  1.018203 -0.043388  \n",
       "18  -0.758743 -1.085735 -0.854094 -0.885881 -1.236045 -0.934141 -0.893697  \n",
       "19  -0.880330 -0.219030 -1.008141 -1.278976 -1.363168  1.049769 -0.196165  \n",
       "20   1.192012  0.508305  0.027571  0.569251  1.188598  0.270094 -0.002127  \n",
       "21  -0.259498  1.645038  1.868447  1.401347  1.383703  2.345545  1.309302  \n",
       "22  -0.772308  0.029222  0.889036  0.352160 -0.542049 -0.490642  1.353908  \n",
       "23  -0.843820  0.334093 -0.113182 -0.407918 -0.271035 -0.448028  0.741685  \n",
       "24   1.739657  1.675525  2.229454  3.006992  2.065048 -0.225489  2.563857  \n",
       "25   1.828419  0.917703  1.064326  2.697676  2.409531  0.483163  0.217560  \n",
       "26  -0.489442 -0.976852 -0.668377 -0.200671 -0.998718 -0.197080 -0.654495  \n",
       "27  -0.353117 -0.205964 -0.809782 -0.597030 -0.350602 -0.571135 -1.038111  \n",
       "28  -0.327326 -1.683717 -1.316691 -1.267059 -1.314392 -2.094184 -1.599036  \n",
       "29  -0.447741 -0.484703 -0.574541 -1.022042 -0.783187  0.664666 -0.355075  \n",
       "..        ...       ...       ...       ...       ...       ...       ...  \n",
       "368 -0.911648 -0.937654 -0.928380 -1.018778 -1.014570 -0.900997 -0.647247  \n",
       "369 -0.704146 -1.098800  0.168977  0.002431 -0.146655 -0.454341  0.840377  \n",
       "370 -1.079291  1.327101  1.157511  1.396684 -0.555310  0.678871  3.617683  \n",
       "371  0.875483  0.599766  0.283013  0.400345  0.627669  0.044398 -0.422542  \n",
       "372 -0.443219 -1.103156 -0.751135 -0.841064 -0.543268 -0.661097 -1.075468  \n",
       "373 -0.344408 -0.266938 -0.323661 -0.677857 -0.712919 -1.014634  0.067013  \n",
       "374  4.250114  0.329738  0.071883  0.392055  0.772474 -0.037673 -0.085764  \n",
       "375 -0.764772 -1.294789 -0.450079 -0.590295 -0.336578  0.099638 -0.759878  \n",
       "376 -0.310578 -0.776508  0.412689  0.505005  0.388360 -0.233381  0.260494  \n",
       "377 -0.141595 -1.429803 -0.008269 -0.096011 -0.475134 -0.062925  0.471816  \n",
       "378  0.145625  0.390712  1.390145  1.645898  1.345596  0.255889  0.639648  \n",
       "379 -0.113627  0.460397  0.320808  0.263562  0.629194 -0.274416  0.547090  \n",
       "380 -0.106761 -1.029116  0.075141  0.566661 -0.293899 -0.664254 -0.506737  \n",
       "381 -0.633806  0.543147  0.062108 -0.146269 -0.632895 -0.530099  0.550435  \n",
       "382 -0.521262  0.760912 -0.087768 -0.612574 -0.651643 -0.716337  0.094335  \n",
       "383  1.317618  1.131113  3.167160  2.010653  1.138297  0.664666  2.798041  \n",
       "384 -0.680867  1.928133  0.467427 -0.668531  0.237458 -0.140262  0.891117  \n",
       "385 -0.813842 -1.085735 -1.208519 -1.391304 -1.756275 -0.287043 -1.231033  \n",
       "386  1.220483 -0.332268  0.438103  1.590460  1.225180  1.679507  0.510847  \n",
       "387 -0.766446 -1.037826 -0.489829 -0.580969 -0.778767  0.437393 -0.189474  \n",
       "388 -0.105923 -0.798285 -0.302157 -0.128653 -0.563084 -0.689506 -0.990159  \n",
       "389 -1.095536  0.094552 -1.144920 -1.391304 -1.756275  0.394779 -0.142637  \n",
       "390 -0.366850  0.447331  0.023662  0.389983  0.458476 -0.356487 -0.382396  \n",
       "391  0.020688 -1.133643  0.167673  0.241283 -0.007948 -0.321765 -0.055097  \n",
       "392  1.627448 -0.576164 -0.128821  0.000877  0.970628 -0.537991 -0.994062  \n",
       "393  0.572352 -0.358400 -0.895147 -0.246265  0.216119 -0.512738 -1.469120  \n",
       "394 -0.306224  2.298333  5.243276  4.333890  1.612342  2.326606  6.901830  \n",
       "395 -0.761422  0.033577 -0.967479 -0.798578 -0.986219 -0.691085 -0.131485  \n",
       "396 -0.988854 -2.672370 -1.473214 -1.391304 -1.756275 -1.551253 -1.010789  \n",
       "397 -0.703476 -0.118858 -0.010875  0.489461 -0.284906 -1.230860  0.200833  \n",
       "\n",
       "[398 rows x 30 columns]>"
      ]
     },
     "execution_count": 18,
     "metadata": {},
     "output_type": "execute_result"
    }
   ],
   "source": [
    "pd.DataFrame(X_train_scaled).describe"
   ]
  },
  {
   "cell_type": "markdown",
   "metadata": {},
   "source": [
    "#### 로지스틱 모델 구축"
   ]
  },
  {
   "cell_type": "code",
   "execution_count": 19,
   "metadata": {},
   "outputs": [
    {
     "data": {
      "text/plain": [
       "array([0, 1, 1, 1, 1])"
      ]
     },
     "execution_count": 19,
     "metadata": {},
     "output_type": "execute_result"
    }
   ],
   "source": [
    "from sklearn.linear_model import LogisticRegression\n",
    "\n",
    "#1) 모델 생성\n",
    "reg = LogisticRegression()\n",
    "\n",
    "#2) 모델 훈련\n",
    "reg.fit(X_train_scaled, y_train)\n",
    "\n",
    "#3) 평가 데이터에 대한 예측 수행\n",
    "y_pred = reg.predict(X_test_scaled)\n",
    "y_pred[:5]"
   ]
  },
  {
   "cell_type": "code",
   "execution_count": 20,
   "metadata": {},
   "outputs": [
    {
     "data": {
      "text/plain": [
       "array([[9.98602542e-01, 1.39745805e-03],\n",
       "       [4.00384053e-02, 9.59961595e-01],\n",
       "       [1.36872289e-03, 9.98631277e-01],\n",
       "       [1.03868343e-02, 9.89613166e-01],\n",
       "       [2.92998187e-04, 9.99707002e-01]])"
      ]
     },
     "execution_count": 20,
     "metadata": {},
     "output_type": "execute_result"
    }
   ],
   "source": [
    "y_pred_proba = reg.predict_proba(X_test_scaled)\n",
    "y_pred_proba[:5]"
   ]
  },
  {
   "cell_type": "code",
   "execution_count": 21,
   "metadata": {
    "scrolled": true
   },
   "outputs": [
    {
     "name": "stdout",
     "output_type": "stream",
     "text": [
      "[[0.99860254 0.00139746]\n",
      " [0.04003841 0.95996159]\n",
      " [0.00136872 0.99863128]\n",
      " [0.01038683 0.98961317]\n",
      " [0.000293   0.999707  ]]\n"
     ]
    }
   ],
   "source": [
    "np.set_printoptions(suppress=True)\n",
    "y_pred_proba = reg.predict_proba(X_test_scaled)\n",
    "print(y_pred_proba[:5])\n",
    "\n",
    "np.set_printoptions(suppress=False)"
   ]
  },
  {
   "cell_type": "code",
   "execution_count": 22,
   "metadata": {},
   "outputs": [
    {
     "name": "stdout",
     "output_type": "stream",
     "text": [
      "[[-0.2832411  -0.59209915 -0.2972598  -0.36775202 -0.14104012  0.41628173\n",
      "  -0.66565913 -0.74229481 -0.39025773  0.04165549 -1.38128497  0.12860473\n",
      "  -0.96157455 -0.96323792  0.25458711  0.9235784  -0.11136139 -0.36267771\n",
      "   0.1433099   0.89208519 -0.86845879 -0.88672476 -0.75544795 -0.84696401\n",
      "  -0.56052756  0.17498866 -0.83309241 -1.05993436 -0.47430265 -0.60872579]]\n"
     ]
    }
   ],
   "source": [
    "# 회귀 계수 확인\n",
    "print(reg.coef_)"
   ]
  },
  {
   "cell_type": "markdown",
   "metadata": {},
   "source": [
    "#### 생성한 모델 성능 지표 확인하기"
   ]
  },
  {
   "cell_type": "code",
   "execution_count": 23,
   "metadata": {},
   "outputs": [
    {
     "data": {
      "text/plain": [
       "array([[ 60,   3],\n",
       "       [  1, 107]], dtype=int64)"
      ]
     },
     "execution_count": 23,
     "metadata": {},
     "output_type": "execute_result"
    }
   ],
   "source": [
    "from sklearn.metrics import confusion_matrix, accuracy_score\n",
    "from sklearn.metrics import precision_score, recall_score\n",
    "\n",
    "#오차행렬\n",
    "confusion_matrix(y_test, y_pred)"
   ]
  },
  {
   "cell_type": "code",
   "execution_count": 25,
   "metadata": {},
   "outputs": [
    {
     "name": "stdout",
     "output_type": "stream",
     "text": [
      "정확도: 0.977\n",
      "정밀도: 0.973\n",
      "재현율: 0.991\n"
     ]
    }
   ],
   "source": [
    "#정확도, 정밀도, 재현율 지표확인\n",
    "accuracy = accuracy_score(y_test, y_pred)\n",
    "precision = precision_score(y_test, y_pred)\n",
    "recall = recall_score(y_test, y_pred)\n",
    "\n",
    "print(\"정확도: {:.3f}\".format(accuracy))\n",
    "print(\"정밀도: {:.3f}\".format(precision))\n",
    "print(\"재현율: {:.3f}\".format(recall))"
   ]
  },
  {
   "cell_type": "code",
   "execution_count": null,
   "metadata": {},
   "outputs": [],
   "source": []
  },
  {
   "cell_type": "markdown",
   "metadata": {},
   "source": [
    "# 2. Logistic Regression: 붓꽃 데이터 , 다중 분류"
   ]
  },
  {
   "cell_type": "markdown",
   "metadata": {},
   "source": [
    "#### 데이터 수집하기"
   ]
  },
  {
   "cell_type": "code",
   "execution_count": 26,
   "metadata": {},
   "outputs": [],
   "source": [
    "from sklearn.datasets import load_iris\n",
    "\n",
    "iris = load_iris()"
   ]
  },
  {
   "cell_type": "markdown",
   "metadata": {},
   "source": [
    "#### 데이터 탐색하기"
   ]
  },
  {
   "cell_type": "code",
   "execution_count": 27,
   "metadata": {},
   "outputs": [
    {
     "name": "stdout",
     "output_type": "stream",
     "text": [
      "dict_keys(['data', 'target', 'frame', 'target_names', 'DESCR', 'feature_names', 'filename'])\n"
     ]
    }
   ],
   "source": [
    "print(iris.keys())"
   ]
  },
  {
   "cell_type": "code",
   "execution_count": 28,
   "metadata": {
    "scrolled": true
   },
   "outputs": [
    {
     "name": "stdout",
     "output_type": "stream",
     "text": [
      ".. _iris_dataset:\n",
      "\n",
      "Iris plants dataset\n",
      "--------------------\n",
      "\n",
      "**Data Set Characteristics:**\n",
      "\n",
      "    :Number of Instances: 150 (50 in each of three classes)\n",
      "    :Number of Attributes: 4 numeric, predictive attributes and the class\n",
      "    :Attribute Information:\n",
      "        - sepal length in cm\n",
      "        - sepal width in cm\n",
      "        - petal length in cm\n",
      "        - petal width in cm\n",
      "        - class:\n",
      "                - Iris-Setosa\n",
      "                - Iris-Versicolour\n",
      "                - Iris-Virginica\n",
      "                \n",
      "    :Summary Statistics:\n",
      "\n",
      "    ============== ==== ==== ======= ===== ====================\n",
      "                    Min  Max   Mean    SD   Class Correlation\n",
      "    ============== ==== ==== ======= ===== ====================\n",
      "    sepal length:   4.3  7.9   5.84   0.83    0.7826\n",
      "    sepal width:    2.0  4.4   3.05   0.43   -0.4194\n",
      "    petal length:   1.0  6.9   3.76   1.76    0.9490  (high!)\n",
      "    petal width:    0.1  2.5   1.20   0.76    0.9565  (high!)\n",
      "    ============== ==== ==== ======= ===== ====================\n",
      "\n",
      "    :Missing Attribute Values: None\n",
      "    :Class Distribution: 33.3% for each of 3 classes.\n",
      "    :Creator: R.A. Fisher\n",
      "    :Donor: Michael Marshall (MARSHALL%PLU@io.arc.nasa.gov)\n",
      "    :Date: July, 1988\n",
      "\n",
      "The famous Iris database, first used by Sir R.A. Fisher. The dataset is taken\n",
      "from Fisher's paper. Note that it's the same as in R, but not as in the UCI\n",
      "Machine Learning Repository, which has two wrong data points.\n",
      "\n",
      "This is perhaps the best known database to be found in the\n",
      "pattern recognition literature.  Fisher's paper is a classic in the field and\n",
      "is referenced frequently to this day.  (See Duda & Hart, for example.)  The\n",
      "data set contains 3 classes of 50 instances each, where each class refers to a\n",
      "type of iris plant.  One class is linearly separable from the other 2; the\n",
      "latter are NOT linearly separable from each other.\n",
      "\n",
      ".. topic:: References\n",
      "\n",
      "   - Fisher, R.A. \"The use of multiple measurements in taxonomic problems\"\n",
      "     Annual Eugenics, 7, Part II, 179-188 (1936); also in \"Contributions to\n",
      "     Mathematical Statistics\" (John Wiley, NY, 1950).\n",
      "   - Duda, R.O., & Hart, P.E. (1973) Pattern Classification and Scene Analysis.\n",
      "     (Q327.D83) John Wiley & Sons.  ISBN 0-471-22361-1.  See page 218.\n",
      "   - Dasarathy, B.V. (1980) \"Nosing Around the Neighborhood: A New System\n",
      "     Structure and Classification Rule for Recognition in Partially Exposed\n",
      "     Environments\".  IEEE Transactions on Pattern Analysis and Machine\n",
      "     Intelligence, Vol. PAMI-2, No. 1, 67-71.\n",
      "   - Gates, G.W. (1972) \"The Reduced Nearest Neighbor Rule\".  IEEE Transactions\n",
      "     on Information Theory, May 1972, 431-433.\n",
      "   - See also: 1988 MLC Proceedings, 54-64.  Cheeseman et al\"s AUTOCLASS II\n",
      "     conceptual clustering system finds 3 classes in the data.\n",
      "   - Many, many more ...\n"
     ]
    }
   ],
   "source": [
    "print(iris.DESCR)"
   ]
  },
  {
   "cell_type": "code",
   "execution_count": 29,
   "metadata": {},
   "outputs": [
    {
     "data": {
      "text/html": [
       "<div>\n",
       "<style scoped>\n",
       "    .dataframe tbody tr th:only-of-type {\n",
       "        vertical-align: middle;\n",
       "    }\n",
       "\n",
       "    .dataframe tbody tr th {\n",
       "        vertical-align: top;\n",
       "    }\n",
       "\n",
       "    .dataframe thead th {\n",
       "        text-align: right;\n",
       "    }\n",
       "</style>\n",
       "<table border=\"1\" class=\"dataframe\">\n",
       "  <thead>\n",
       "    <tr style=\"text-align: right;\">\n",
       "      <th></th>\n",
       "      <th>sepal length (cm)</th>\n",
       "      <th>sepal width (cm)</th>\n",
       "      <th>petal length (cm)</th>\n",
       "      <th>petal width (cm)</th>\n",
       "      <th>species</th>\n",
       "    </tr>\n",
       "  </thead>\n",
       "  <tbody>\n",
       "    <tr>\n",
       "      <th>0</th>\n",
       "      <td>5.1</td>\n",
       "      <td>3.5</td>\n",
       "      <td>1.4</td>\n",
       "      <td>0.2</td>\n",
       "      <td>setosa</td>\n",
       "    </tr>\n",
       "    <tr>\n",
       "      <th>1</th>\n",
       "      <td>4.9</td>\n",
       "      <td>3.0</td>\n",
       "      <td>1.4</td>\n",
       "      <td>0.2</td>\n",
       "      <td>setosa</td>\n",
       "    </tr>\n",
       "    <tr>\n",
       "      <th>2</th>\n",
       "      <td>4.7</td>\n",
       "      <td>3.2</td>\n",
       "      <td>1.3</td>\n",
       "      <td>0.2</td>\n",
       "      <td>setosa</td>\n",
       "    </tr>\n",
       "    <tr>\n",
       "      <th>3</th>\n",
       "      <td>4.6</td>\n",
       "      <td>3.1</td>\n",
       "      <td>1.5</td>\n",
       "      <td>0.2</td>\n",
       "      <td>setosa</td>\n",
       "    </tr>\n",
       "    <tr>\n",
       "      <th>4</th>\n",
       "      <td>5.0</td>\n",
       "      <td>3.6</td>\n",
       "      <td>1.4</td>\n",
       "      <td>0.2</td>\n",
       "      <td>setosa</td>\n",
       "    </tr>\n",
       "  </tbody>\n",
       "</table>\n",
       "</div>"
      ],
      "text/plain": [
       "   sepal length (cm)  sepal width (cm)  petal length (cm)  petal width (cm)  \\\n",
       "0                5.1               3.5                1.4               0.2   \n",
       "1                4.9               3.0                1.4               0.2   \n",
       "2                4.7               3.2                1.3               0.2   \n",
       "3                4.6               3.1                1.5               0.2   \n",
       "4                5.0               3.6                1.4               0.2   \n",
       "\n",
       "  species  \n",
       "0  setosa  \n",
       "1  setosa  \n",
       "2  setosa  \n",
       "3  setosa  \n",
       "4  setosa  "
      ]
     },
     "execution_count": 29,
     "metadata": {},
     "output_type": "execute_result"
    }
   ],
   "source": [
    "#데이터프레임으로 전환하고, 타겟(class) 추가하되 범주형으로 추가 \n",
    "iris_df = pd.DataFrame(iris.data, columns=iris.feature_names)\n",
    "species = pd.Series(iris.target, dtype='category')\n",
    "species = species.cat.rename_categories(iris.target_names)\n",
    "iris_df['species'] = species\n",
    "iris_df.head()"
   ]
  },
  {
   "cell_type": "code",
   "execution_count": null,
   "metadata": {},
   "outputs": [],
   "source": [
    "#데이터셋의 크기, 독립변수 X의 피처 정보 확인"
   ]
  },
  {
   "cell_type": "code",
   "execution_count": 45,
   "metadata": {
    "scrolled": true
   },
   "outputs": [
    {
     "name": "stdout",
     "output_type": "stream",
     "text": [
      "Requirement already satisfied: pandas in c:\\anaconda\\envs\\test3\\lib\\site-packages (0.24.2)\n",
      "Collecting pandas\n",
      "  Using cached pandas-1.3.0-cp37-cp37m-win_amd64.whl (10.0 MB)\n",
      "Requirement already satisfied: numpy>=1.17.3 in c:\\anaconda\\envs\\test3\\lib\\site-packages (from pandas) (1.21.0)\n",
      "Requirement already satisfied: pytz>=2017.3 in c:\\anaconda\\envs\\test3\\lib\\site-packages (from pandas) (2020.1)\n",
      "Requirement already satisfied: python-dateutil>=2.7.3 in c:\\anaconda\\envs\\test3\\lib\\site-packages (from pandas) (2.8.1)\n",
      "Requirement already satisfied: six>=1.5 in c:\\anaconda\\envs\\test3\\lib\\site-packages (from python-dateutil>=2.7.3->pandas) (1.15.0)\n",
      "Installing collected packages: pandas\n",
      "  Attempting uninstall: pandas\n",
      "    Found existing installation: pandas 0.24.2\n",
      "    Uninstalling pandas-0.24.2:\n",
      "      Successfully uninstalled pandas-0.24.2\n",
      "Note: you may need to restart the kernel to use updated packages.\n"
     ]
    },
    {
     "name": "stderr",
     "output_type": "stream",
     "text": [
      "WARNING: Ignoring invalid distribution -umpy (c:\\anaconda\\envs\\test3\\lib\\site-packages)\n",
      "WARNING: Ignoring invalid distribution -umpy (c:\\anaconda\\envs\\test3\\lib\\site-packages)\n",
      "WARNING: Ignoring invalid distribution -umpy (c:\\anaconda\\envs\\test3\\lib\\site-packages)\n",
      "    WARNING: Ignoring invalid distribution -umpy (c:\\anaconda\\envs\\test3\\lib\\site-packages)\n",
      "ERROR: Could not install packages due to an OSError: [WinError 5] 액세스가 거부되었습니다: 'c:\\\\anaconda\\\\envs\\\\test3\\\\lib\\\\site-packages\\\\~-ndas\\\\io\\\\msgpack\\\\_packer.cp37-win_amd64.pyd'\n",
      "Consider using the `--user` option or check the permissions.\n",
      "\n",
      "WARNING: Ignoring invalid distribution -umpy (c:\\anaconda\\envs\\test3\\lib\\site-packages)\n",
      "WARNING: Ignoring invalid distribution -umpy (c:\\anaconda\\envs\\test3\\lib\\site-packages)\n"
     ]
    }
   ],
   "source": [
    "pip install --upgrade pandas"
   ]
  },
  {
   "cell_type": "code",
   "execution_count": 47,
   "metadata": {},
   "outputs": [
    {
     "data": {
      "text/plain": [
       "<bound method DataFrame.info of      sepal length (cm)  sepal width (cm)  petal length (cm)  petal width (cm)  \\\n",
       "0                  5.1               3.5                1.4               0.2   \n",
       "1                  4.9               3.0                1.4               0.2   \n",
       "2                  4.7               3.2                1.3               0.2   \n",
       "3                  4.6               3.1                1.5               0.2   \n",
       "4                  5.0               3.6                1.4               0.2   \n",
       "5                  5.4               3.9                1.7               0.4   \n",
       "6                  4.6               3.4                1.4               0.3   \n",
       "7                  5.0               3.4                1.5               0.2   \n",
       "8                  4.4               2.9                1.4               0.2   \n",
       "9                  4.9               3.1                1.5               0.1   \n",
       "10                 5.4               3.7                1.5               0.2   \n",
       "11                 4.8               3.4                1.6               0.2   \n",
       "12                 4.8               3.0                1.4               0.1   \n",
       "13                 4.3               3.0                1.1               0.1   \n",
       "14                 5.8               4.0                1.2               0.2   \n",
       "15                 5.7               4.4                1.5               0.4   \n",
       "16                 5.4               3.9                1.3               0.4   \n",
       "17                 5.1               3.5                1.4               0.3   \n",
       "18                 5.7               3.8                1.7               0.3   \n",
       "19                 5.1               3.8                1.5               0.3   \n",
       "20                 5.4               3.4                1.7               0.2   \n",
       "21                 5.1               3.7                1.5               0.4   \n",
       "22                 4.6               3.6                1.0               0.2   \n",
       "23                 5.1               3.3                1.7               0.5   \n",
       "24                 4.8               3.4                1.9               0.2   \n",
       "25                 5.0               3.0                1.6               0.2   \n",
       "26                 5.0               3.4                1.6               0.4   \n",
       "27                 5.2               3.5                1.5               0.2   \n",
       "28                 5.2               3.4                1.4               0.2   \n",
       "29                 4.7               3.2                1.6               0.2   \n",
       "..                 ...               ...                ...               ...   \n",
       "120                6.9               3.2                5.7               2.3   \n",
       "121                5.6               2.8                4.9               2.0   \n",
       "122                7.7               2.8                6.7               2.0   \n",
       "123                6.3               2.7                4.9               1.8   \n",
       "124                6.7               3.3                5.7               2.1   \n",
       "125                7.2               3.2                6.0               1.8   \n",
       "126                6.2               2.8                4.8               1.8   \n",
       "127                6.1               3.0                4.9               1.8   \n",
       "128                6.4               2.8                5.6               2.1   \n",
       "129                7.2               3.0                5.8               1.6   \n",
       "130                7.4               2.8                6.1               1.9   \n",
       "131                7.9               3.8                6.4               2.0   \n",
       "132                6.4               2.8                5.6               2.2   \n",
       "133                6.3               2.8                5.1               1.5   \n",
       "134                6.1               2.6                5.6               1.4   \n",
       "135                7.7               3.0                6.1               2.3   \n",
       "136                6.3               3.4                5.6               2.4   \n",
       "137                6.4               3.1                5.5               1.8   \n",
       "138                6.0               3.0                4.8               1.8   \n",
       "139                6.9               3.1                5.4               2.1   \n",
       "140                6.7               3.1                5.6               2.4   \n",
       "141                6.9               3.1                5.1               2.3   \n",
       "142                5.8               2.7                5.1               1.9   \n",
       "143                6.8               3.2                5.9               2.3   \n",
       "144                6.7               3.3                5.7               2.5   \n",
       "145                6.7               3.0                5.2               2.3   \n",
       "146                6.3               2.5                5.0               1.9   \n",
       "147                6.5               3.0                5.2               2.0   \n",
       "148                6.2               3.4                5.4               2.3   \n",
       "149                5.9               3.0                5.1               1.8   \n",
       "\n",
       "       species  \n",
       "0       setosa  \n",
       "1       setosa  \n",
       "2       setosa  \n",
       "3       setosa  \n",
       "4       setosa  \n",
       "5       setosa  \n",
       "6       setosa  \n",
       "7       setosa  \n",
       "8       setosa  \n",
       "9       setosa  \n",
       "10      setosa  \n",
       "11      setosa  \n",
       "12      setosa  \n",
       "13      setosa  \n",
       "14      setosa  \n",
       "15      setosa  \n",
       "16      setosa  \n",
       "17      setosa  \n",
       "18      setosa  \n",
       "19      setosa  \n",
       "20      setosa  \n",
       "21      setosa  \n",
       "22      setosa  \n",
       "23      setosa  \n",
       "24      setosa  \n",
       "25      setosa  \n",
       "26      setosa  \n",
       "27      setosa  \n",
       "28      setosa  \n",
       "29      setosa  \n",
       "..         ...  \n",
       "120  virginica  \n",
       "121  virginica  \n",
       "122  virginica  \n",
       "123  virginica  \n",
       "124  virginica  \n",
       "125  virginica  \n",
       "126  virginica  \n",
       "127  virginica  \n",
       "128  virginica  \n",
       "129  virginica  \n",
       "130  virginica  \n",
       "131  virginica  \n",
       "132  virginica  \n",
       "133  virginica  \n",
       "134  virginica  \n",
       "135  virginica  \n",
       "136  virginica  \n",
       "137  virginica  \n",
       "138  virginica  \n",
       "139  virginica  \n",
       "140  virginica  \n",
       "141  virginica  \n",
       "142  virginica  \n",
       "143  virginica  \n",
       "144  virginica  \n",
       "145  virginica  \n",
       "146  virginica  \n",
       "147  virginica  \n",
       "148  virginica  \n",
       "149  virginica  \n",
       "\n",
       "[150 rows x 5 columns]>"
      ]
     },
     "execution_count": 47,
     "metadata": {},
     "output_type": "execute_result"
    }
   ],
   "source": [
    "iris_df.info"
   ]
  },
  {
   "cell_type": "code",
   "execution_count": 31,
   "metadata": {},
   "outputs": [
    {
     "data": {
      "text/plain": [
       "virginica     50\n",
       "versicolor    50\n",
       "setosa        50\n",
       "Name: species, dtype: int64"
      ]
     },
     "execution_count": 31,
     "metadata": {},
     "output_type": "execute_result"
    }
   ],
   "source": [
    "iris_df['species'].value_counts()"
   ]
  },
  {
   "cell_type": "code",
   "execution_count": null,
   "metadata": {
    "scrolled": true
   },
   "outputs": [],
   "source": [
    "iris_df.plot()"
   ]
  },
  {
   "cell_type": "code",
   "execution_count": null,
   "metadata": {},
   "outputs": [],
   "source": []
  },
  {
   "cell_type": "code",
   "execution_count": 40,
   "metadata": {},
   "outputs": [],
   "source": [
    "import matplotlib.pyplot as plt\n",
    "import seaborn as sns"
   ]
  },
  {
   "cell_type": "code",
   "execution_count": null,
   "metadata": {
    "scrolled": false
   },
   "outputs": [],
   "source": [
    "# hue 옵션을 주면, 첫번째 그림이 \n",
    "#히스토그램에서 커널 밀도 추정(KDE) 그래프로 변경됨\n",
    "sns.pairplot(iris_df)"
   ]
  },
  {
   "cell_type": "code",
   "execution_count": null,
   "metadata": {},
   "outputs": [],
   "source": [
    "sns.pairplot(iris_df, hue='species')"
   ]
  },
  {
   "cell_type": "code",
   "execution_count": null,
   "metadata": {},
   "outputs": [],
   "source": [
    "# 3종류인것을 추측 가능"
   ]
  },
  {
   "cell_type": "markdown",
   "metadata": {},
   "source": [
    "#### 데이터 준비, 분할, 전처리"
   ]
  },
  {
   "cell_type": "code",
   "execution_count": null,
   "metadata": {},
   "outputs": [],
   "source": []
  },
  {
   "cell_type": "code",
   "execution_count": 49,
   "metadata": {},
   "outputs": [],
   "source": [
    "# X, y 설정하기\n",
    "X = iris.data\n",
    "y = iris.target\n",
    "\n",
    "# 데이터 분할: 붓꽃의 타겟 데이터가 \n",
    "# 테스트 세트도 훈련 세트와 동일한 비율로 들어갈 수 있도록 \n",
    "# 분할시 stratify옵션을 준다. \n",
    "X_train, X_test, y_train, y_test = train_test_split(X, y, test_size=0.2,\n",
    "                                                   random_state=1,\n",
    "                                                   stratify=iris.target)\n",
    "\n",
    "# 훈련데이터, 테스트 데이터 스케일링\n",
    "from sklearn.preprocessing import StandardScaler\n",
    "scaler = StandardScaler()\n",
    "\n",
    "X_train_scaled = scaler.fit_transform(X_train)\n",
    "X_test_scaled = scaler.transform(X_test)"
   ]
  },
  {
   "cell_type": "markdown",
   "metadata": {},
   "source": [
    "#### 로지스틱 모델 구축"
   ]
  },
  {
   "cell_type": "code",
   "execution_count": 51,
   "metadata": {},
   "outputs": [],
   "source": [
    "# 로지스틱 회귀 객체 생성\n",
    "# 꽃의 종류가 3가지(이진 분류가 아님, solver, multiclass option을 주는 이유)\n",
    "reg = LogisticRegression(solver='lbfgs',\n",
    "                        multi_class='auto',\n",
    "                        max_iter=10000,\n",
    "                        C=100, random_state=1)\n",
    "reg.fit(X_train_scaled, y_train)\n",
    "# 테스트 데이터를 모델에 적용하여 y_pred 구하기\n",
    "y_pred = reg.predict(X_test_scaled)"
   ]
  },
  {
   "cell_type": "code",
   "execution_count": 52,
   "metadata": {},
   "outputs": [
    {
     "data": {
      "text/plain": [
       "array([2, 0, 1, 0, 0, 0, 2, 2, 2, 1])"
      ]
     },
     "execution_count": 52,
     "metadata": {},
     "output_type": "execute_result"
    }
   ],
   "source": [
    "y_pred[:10]"
   ]
  },
  {
   "cell_type": "code",
   "execution_count": 53,
   "metadata": {},
   "outputs": [
    {
     "name": "stdout",
     "output_type": "stream",
     "text": [
      "[[0.         0.0001152  0.9998848 ]\n",
      " [0.99939799 0.00060201 0.        ]\n",
      " [0.02675566 0.97324428 0.00000006]\n",
      " [0.9999032  0.0000968  0.        ]\n",
      " [0.99929304 0.00070696 0.        ]\n",
      " [0.99982163 0.00017837 0.        ]\n",
      " [0.         0.00029766 0.99970234]\n",
      " [0.         0.00380588 0.99619412]\n",
      " [0.00000022 0.01044999 0.98954978]\n",
      " [0.00000056 0.98820706 0.01179238]]\n"
     ]
    }
   ],
   "source": [
    "np.set_printoptions(suppress=True)\n",
    "y_pred_proba = reg.predict_proba(X_test_scaled)\n",
    "print(y_pred_proba[:10])\n",
    "\n",
    "np.set_printoptions(suppress=True)"
   ]
  },
  {
   "cell_type": "markdown",
   "metadata": {},
   "source": [
    "#### 모델의 성능 지표 확인"
   ]
  },
  {
   "cell_type": "code",
   "execution_count": 54,
   "metadata": {},
   "outputs": [
    {
     "name": "stdout",
     "output_type": "stream",
     "text": [
      "[[10  0  0]\n",
      " [ 0 10  0]\n",
      " [ 0  0 10]]\n",
      "정확도: 1.000\n"
     ]
    }
   ],
   "source": [
    "from sklearn.metrics import confusion_matrix, accuracy_score\n",
    "#오차행렬\n",
    "print(confusion_matrix(y_test, y_pred))\n",
    "\n",
    "#정확도, 정밀도, 재현율 지표확인\n",
    "accuracy = accuracy_score(y_test, y_pred)\n",
    "print(\"정확도: {:.3f}\".format(accuracy))"
   ]
  },
  {
   "cell_type": "code",
   "execution_count": null,
   "metadata": {},
   "outputs": [],
   "source": [
    "#####################################################################################################################"
   ]
  },
  {
   "cell_type": "markdown",
   "metadata": {},
   "source": []
  },
  {
   "cell_type": "code",
   "execution_count": null,
   "metadata": {},
   "outputs": [],
   "source": []
  }
 ],
 "metadata": {
  "kernelspec": {
   "display_name": "Python 3",
   "language": "python",
   "name": "python3"
  },
  "language_info": {
   "codemirror_mode": {
    "name": "ipython",
    "version": 3
   },
   "file_extension": ".py",
   "mimetype": "text/x-python",
   "name": "python",
   "nbconvert_exporter": "python",
   "pygments_lexer": "ipython3",
   "version": "3.7.9"
  }
 },
 "nbformat": 4,
 "nbformat_minor": 4
}
