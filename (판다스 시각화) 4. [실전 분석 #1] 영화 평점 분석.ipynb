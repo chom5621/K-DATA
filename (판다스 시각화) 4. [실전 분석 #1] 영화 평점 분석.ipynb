{
 "cells": [
  {
   "cell_type": "markdown",
   "metadata": {},
   "source": [
    "# 영화 평점 분석 실습"
   ]
  },
  {
   "cell_type": "code",
   "execution_count": null,
   "metadata": {},
   "outputs": [],
   "source": [
    "import pandas as pd\n",
    "from pandas import Series, DataFrame\n",
    "import numpy as np"
   ]
  },
  {
   "cell_type": "markdown",
   "metadata": {},
   "source": [
    "## 1. 영화 평점 데이터 적재 및 전처리"
   ]
  },
  {
   "cell_type": "code",
   "execution_count": null,
   "metadata": {},
   "outputs": [],
   "source": [
    "# 사용자 데이터 읽어오기\n",
    "users = pd.read_csv('data/movielens/users.dat', sep = '::', engine = 'python',\n",
    "                   names = ['사용자아이디', '성별','연령','직업','지역'])\n",
    "users.head()"
   ]
  },
  {
   "cell_type": "code",
   "execution_count": null,
   "metadata": {},
   "outputs": [],
   "source": [
    "# 평점 데이터 읽어오기\n",
    "ratings = pd.read_csv('data/movielens/ratings.dat', sep = '::', engine = 'python',\n",
    "                   names = ['사용자아이디', '영화아이디','평점','타임스탬프'])\n",
    "ratings.head()"
   ]
  },
  {
   "cell_type": "code",
   "execution_count": null,
   "metadata": {},
   "outputs": [],
   "source": [
    "# 영화데이터 읽어오기\n",
    "movies = pd.read_csv('data/movielens/movies.dat', sep = '::', engine = 'python',\n",
    "                   names = ['영화아이디','영화제목','장르'], encoding = 'latin-1')\n",
    "movies.head()"
   ]
  },
  {
   "cell_type": "code",
   "execution_count": null,
   "metadata": {
    "scrolled": true
   },
   "outputs": [],
   "source": [
    "# 3개의 데이터프레임을 하나로 합치기\n",
    "data = pd.merge(users, ratings)\n",
    "data = pd.merge(data, movies)\n",
    "data.head()"
   ]
  },
  {
   "cell_type": "code",
   "execution_count": null,
   "metadata": {},
   "outputs": [],
   "source": [
    "print('사용자 수:', len(users))\n",
    "print('리뷰 수:', len(ratings)) #ratings.사용자아이디.count()\n",
    "print('영화 수:', len(movies))"
   ]
  },
  {
   "cell_type": "code",
   "execution_count": null,
   "metadata": {
    "scrolled": true
   },
   "outputs": [],
   "source": [
    "# 모든 사용자가 리뷰를 했나?\n",
    "ratings.사용자아이디.nunique() #모든 사용자가 영화 리뷰에 참여!"
   ]
  },
  {
   "cell_type": "code",
   "execution_count": null,
   "metadata": {},
   "outputs": [],
   "source": [
    "# 리뷰가 없는 영화는 있는가?\n",
    "ratings.nunique() #영화 수는 3883, 영화 아이디는 3706으로, 176개는 영화 리뷰가 없음!"
   ]
  },
  {
   "cell_type": "markdown",
   "metadata": {},
   "source": [
    "## 2. 보고 싶은 영화 찾기\n",
    "영화들의 평점 평균을 구하여, 사람들에게 인정받는 (평점이 높은) 영화 찾기"
   ]
  },
  {
   "cell_type": "code",
   "execution_count": null,
   "metadata": {
    "scrolled": true
   },
   "outputs": [],
   "source": [
    "data.head()"
   ]
  },
  {
   "cell_type": "code",
   "execution_count": null,
   "metadata": {
    "scrolled": true
   },
   "outputs": [],
   "source": [
    "# 영화들의 평점 평균을 구하여, 평점이 높은 영화 찾기 \n",
    "data.pivot_table(index='영화제목', aggfunc='mean', values='평점')\\\n",
    "                 .sort_values(by='평점', ascending=False).head(10)"
   ]
  },
  {
   "cell_type": "code",
   "execution_count": null,
   "metadata": {},
   "outputs": [],
   "source": [
    "data.pivot_table(index='영화제목', aggfunc='mean', values='평점').nlargest(10, '평점') #nsmallest"
   ]
  },
  {
   "cell_type": "markdown",
   "metadata": {},
   "source": [
    "평균 평점이 만점인 영화들이 최상위에 위치함. \n",
    "일반적으로 평점이 만점인 경우는 대부분 평점의 개수가 매우 적은 경우이므로, 이를 확인하기 위해 평점의 개수도 함께 구해본다. "
   ]
  },
  {
   "cell_type": "code",
   "execution_count": null,
   "metadata": {},
   "outputs": [],
   "source": [
    "#영화제목도 중복될 수 있으므로, 제대로 하려면 영화아이디로 해야 됨\n",
    "# 중복된 영화제목이 있는지 확인\n",
    "\n",
    "movies.영화제목.nunique() #위에서 구한 영화 수와 일치하므로 중복X"
   ]
  },
  {
   "cell_type": "code",
   "execution_count": null,
   "metadata": {
    "scrolled": true
   },
   "outputs": [],
   "source": [
    "movies.nunique()"
   ]
  },
  {
   "cell_type": "code",
   "execution_count": null,
   "metadata": {},
   "outputs": [],
   "source": [
    "#data.pivot_table(index=['영화아이디','영화제목'], aggfunc='mean', values='평점')\\ \n",
    "#                 .nlargest(10, '평점') #nsmallest"
   ]
  },
  {
   "cell_type": "code",
   "execution_count": null,
   "metadata": {
    "scrolled": true
   },
   "outputs": [],
   "source": [
    "data.pivot_table(index='영화제목', aggfunc=['mean','count'], values='평점')"
   ]
  },
  {
   "cell_type": "code",
   "execution_count": null,
   "metadata": {
    "scrolled": false
   },
   "outputs": [],
   "source": [
    "data.pivot_table(index='영화제목', aggfunc=['mean','count'], values='평점')\\\n",
    ".nlargest(10, ('mean','평점')) #평점 높고, 개수도 많은 걸 찾자!"
   ]
  },
  {
   "cell_type": "code",
   "execution_count": null,
   "metadata": {},
   "outputs": [],
   "source": [
    "#평점 평균이 4.5 이상이고, 평점의 개수가 1000개 이상인 영화를 보고싶은 영화로 지정!\n",
    "영화평점 = data.pivot_table(index='영화제목', aggfunc=['mean','count'], values='평점')\n",
    "영화평점.columns=['평점평균','평점개수']"
   ]
  },
  {
   "cell_type": "code",
   "execution_count": null,
   "metadata": {
    "scrolled": true
   },
   "outputs": [],
   "source": [
    "영화평점"
   ]
  },
  {
   "cell_type": "code",
   "execution_count": null,
   "metadata": {},
   "outputs": [],
   "source": [
    "영화평점[(영화평점.평점평균 >= 4.5) & (영화평점.평점개수 >=1000)]"
   ]
  },
  {
   "cell_type": "markdown",
   "metadata": {},
   "source": [
    "## [실습 #1] 여자들이 좋아하는 영화 찾기 \n",
    "### - 여성 평점이 4.0 이상이고 여성 평점의 개수가 500개 이상인 영화"
   ]
  },
  {
   "cell_type": "code",
   "execution_count": null,
   "metadata": {
    "scrolled": true
   },
   "outputs": [],
   "source": [
    "data_f = data[data['성별']=='F']\n",
    "data_f"
   ]
  },
  {
   "cell_type": "code",
   "execution_count": null,
   "metadata": {},
   "outputs": [],
   "source": [
    "여성평점 = data_f.pivot_table(index='영화제목', aggfunc=['mean','count'], values='평점')\n",
    "여성평점.columns=['평점평균','평점개수']"
   ]
  },
  {
   "cell_type": "code",
   "execution_count": null,
   "metadata": {
    "scrolled": true
   },
   "outputs": [],
   "source": [
    "여성평점[(여성평점.평점평균 >= 4.0) & (여성평점.평점개수 >=500)]"
   ]
  },
  {
   "cell_type": "code",
   "execution_count": null,
   "metadata": {},
   "outputs": [],
   "source": []
  },
  {
   "cell_type": "code",
   "execution_count": null,
   "metadata": {
    "scrolled": true
   },
   "outputs": [],
   "source": [
    "data[data['성별']=='F'].pivot_table(index='영화제목', \n",
    "                                  aggfunc=['mean','count'], values='평점')"
   ]
  },
  {
   "cell_type": "code",
   "execution_count": null,
   "metadata": {
    "scrolled": true
   },
   "outputs": [],
   "source": [
    "ex1 = data.pivot_table(index='영화제목', columns='성별',                       \n",
    "                       aggfunc=['mean','count'], values='평점')\n",
    "ex1"
   ]
  },
  {
   "cell_type": "code",
   "execution_count": null,
   "metadata": {
    "scrolled": true
   },
   "outputs": [],
   "source": [
    "ex1[(ex1[('mean','F')]>= 4.0) & (ex1[('count','F')] >=500)]"
   ]
  },
  {
   "cell_type": "markdown",
   "metadata": {},
   "source": [
    "## [실습 #2] 실습 #1에서 구한 영화(여성인기영화)의 장르를 분석해 보자.\n",
    "여성인기영화의 장르 통계 구하기\n",
    "\n",
    "예를 들어, 여성인기영화 중 Drama 장르의 영화는 10개, Action 영화는 3개, ..."
   ]
  },
  {
   "cell_type": "code",
   "execution_count": null,
   "metadata": {
    "scrolled": true
   },
   "outputs": [],
   "source": [
    "여성인기영화 = 여성평점[(여성평점.평점평균 >= 4.0) & (여성평점.평점개수 >=500)]\n",
    "여성인기영화"
   ]
  },
  {
   "cell_type": "code",
   "execution_count": null,
   "metadata": {},
   "outputs": [],
   "source": [
    "여성인기영화.index"
   ]
  },
  {
   "cell_type": "code",
   "execution_count": null,
   "metadata": {
    "scrolled": true
   },
   "outputs": [],
   "source": [
    "movies.영화제목.values"
   ]
  },
  {
   "cell_type": "code",
   "execution_count": null,
   "metadata": {
    "scrolled": true
   },
   "outputs": [],
   "source": [
    "lst=[]\n",
    "for i in 여성인기영화.index:\n",
    "    if i in movies.영화제목.values:\n",
    "        lst.append(i)\n",
    "lst"
   ]
  },
  {
   "cell_type": "code",
   "execution_count": null,
   "metadata": {
    "scrolled": true
   },
   "outputs": [],
   "source": [
    "여성인기영화장르 = movies[movies.영화제목.isin(lst)]\n",
    "여성인기영화장르"
   ]
  },
  {
   "cell_type": "code",
   "execution_count": null,
   "metadata": {},
   "outputs": [],
   "source": [
    "k =[]\n",
    "for i in 여성인기영화장르.장르:\n",
    "    for j in i.split('|'):\n",
    "        k.append(j)"
   ]
  },
  {
   "cell_type": "code",
   "execution_count": null,
   "metadata": {
    "scrolled": true
   },
   "outputs": [],
   "source": [
    "k"
   ]
  },
  {
   "cell_type": "code",
   "execution_count": null,
   "metadata": {},
   "outputs": [],
   "source": [
    "count={}\n",
    "for i in k:\n",
    "    try: count[i] += 1\n",
    "    except: count[i]=1\n",
    "print(count)"
   ]
  },
  {
   "cell_type": "code",
   "execution_count": null,
   "metadata": {},
   "outputs": [],
   "source": []
  },
  {
   "cell_type": "code",
   "execution_count": null,
   "metadata": {
    "scrolled": true
   },
   "outputs": [],
   "source": [
    "ex2 = ex1[(ex1[('mean','F')]>= 4.0) & (ex1[('count','F')] >=500)].index"
   ]
  },
  {
   "cell_type": "code",
   "execution_count": null,
   "metadata": {},
   "outputs": [],
   "source": [
    "ex2"
   ]
  },
  {
   "cell_type": "code",
   "execution_count": null,
   "metadata": {
    "scrolled": true
   },
   "outputs": [],
   "source": [
    "ex2_df = movies[movies.영화제목.isin(ex2)]\n",
    "ex2_df"
   ]
  },
  {
   "cell_type": "code",
   "execution_count": null,
   "metadata": {
    "scrolled": true
   },
   "outputs": [],
   "source": [
    "ex2_df.장르.str.split('|')"
   ]
  },
  {
   "cell_type": "code",
   "execution_count": null,
   "metadata": {
    "scrolled": true
   },
   "outputs": [],
   "source": [
    "ex2_df = ex2_df.장르.str.split('|', expand=True)\n",
    "ex2_df"
   ]
  },
  {
   "cell_type": "code",
   "execution_count": null,
   "metadata": {
    "scrolled": true
   },
   "outputs": [],
   "source": [
    "장르1 = ex2_df[0].value_counts()\n",
    "장르2 = ex2_df[1].value_counts()\n",
    "장르3 = ex2_df[2].value_counts()\n",
    "장르4 = ex2_df[3].value_counts()\n",
    "장르5 = ex2_df[4].value_counts()"
   ]
  },
  {
   "cell_type": "code",
   "execution_count": null,
   "metadata": {
    "scrolled": true
   },
   "outputs": [],
   "source": [
    "#장르1+장르2+장르3+장르4+장르5\n",
    "장르1.add(장르2, fill_value=0).add(장르3, fill_value=0).add(장르4, fill_value=0).add(장르5, fill_value=0)"
   ]
  },
  {
   "cell_type": "code",
   "execution_count": null,
   "metadata": {
    "scrolled": true
   },
   "outputs": [],
   "source": [
    "sr = Series()\n",
    "for col in ex2_df.columns:\n",
    "    sr = sr.add(ex2_df[col].value_counts(), fill_value=0)\n",
    "sr"
   ]
  },
  {
   "cell_type": "code",
   "execution_count": null,
   "metadata": {},
   "outputs": [],
   "source": [
    "sr.sort_values(ascending=False)"
   ]
  },
  {
   "cell_type": "code",
   "execution_count": null,
   "metadata": {},
   "outputs": [],
   "source": []
  },
  {
   "cell_type": "markdown",
   "metadata": {},
   "source": [
    "## [실습 #3] 남자와 여자의 호불호가 크게 갈리는 영화 10개 찾기\n",
    "전체 평점의 개수가 500개 이상인 영화만 대상으로 함."
   ]
  },
  {
   "cell_type": "code",
   "execution_count": null,
   "metadata": {
    "scrolled": true
   },
   "outputs": [],
   "source": [
    "data_f = data[data['성별']=='F']\n",
    "data_f"
   ]
  },
  {
   "cell_type": "code",
   "execution_count": null,
   "metadata": {
    "scrolled": true
   },
   "outputs": [],
   "source": [
    "여성평점 = data_f.pivot_table(index='영화제목', aggfunc=['mean','count'], values='평점')\n",
    "여성평점.columns=['평점평균_f','평점개수_f']\n",
    "여성평점 = 여성평점[여성평점.평점개수_f >=500]\n",
    "여성평점"
   ]
  },
  {
   "cell_type": "code",
   "execution_count": null,
   "metadata": {
    "scrolled": true
   },
   "outputs": [],
   "source": [
    "data_m = data[data['성별']=='M']\n",
    "data_m"
   ]
  },
  {
   "cell_type": "code",
   "execution_count": null,
   "metadata": {
    "scrolled": true
   },
   "outputs": [],
   "source": [
    "남성평점 = data_m.pivot_table(index='영화제목', aggfunc=['mean','count'], values='평점')\n",
    "남성평점.columns=['평점평균_m','평점개수_m']\n",
    "남성평점 = 남성평점[남성평점.평점개수_m >=500]\n",
    "남성평점"
   ]
  },
  {
   "cell_type": "code",
   "execution_count": 167,
   "metadata": {
    "scrolled": true
   },
   "outputs": [
    {
     "data": {
      "text/html": [
       "<div>\n",
       "<style scoped>\n",
       "    .dataframe tbody tr th:only-of-type {\n",
       "        vertical-align: middle;\n",
       "    }\n",
       "\n",
       "    .dataframe tbody tr th {\n",
       "        vertical-align: top;\n",
       "    }\n",
       "\n",
       "    .dataframe thead th {\n",
       "        text-align: right;\n",
       "    }\n",
       "</style>\n",
       "<table border=\"1\" class=\"dataframe\">\n",
       "  <thead>\n",
       "    <tr style=\"text-align: right;\">\n",
       "      <th></th>\n",
       "      <th>평점평균_f</th>\n",
       "      <th>평점개수_f</th>\n",
       "      <th>평점평균_m</th>\n",
       "      <th>평점개수_m</th>\n",
       "      <th>평점차이</th>\n",
       "    </tr>\n",
       "    <tr>\n",
       "      <th>영화제목</th>\n",
       "      <th></th>\n",
       "      <th></th>\n",
       "      <th></th>\n",
       "      <th></th>\n",
       "      <th></th>\n",
       "    </tr>\n",
       "  </thead>\n",
       "  <tbody>\n",
       "    <tr>\n",
       "      <th>Groundhog Day (1993)</th>\n",
       "      <td>3.735562</td>\n",
       "      <td>658.0</td>\n",
       "      <td>4.041358</td>\n",
       "      <td>1620</td>\n",
       "      <td>0.305796</td>\n",
       "    </tr>\n",
       "    <tr>\n",
       "      <th>Saving Private Ryan (1998)</th>\n",
       "      <td>4.114783</td>\n",
       "      <td>575.0</td>\n",
       "      <td>4.398941</td>\n",
       "      <td>2078</td>\n",
       "      <td>0.284159</td>\n",
       "    </tr>\n",
       "    <tr>\n",
       "      <th>Braveheart (1995)</th>\n",
       "      <td>4.016484</td>\n",
       "      <td>546.0</td>\n",
       "      <td>4.297839</td>\n",
       "      <td>1897</td>\n",
       "      <td>0.281355</td>\n",
       "    </tr>\n",
       "    <tr>\n",
       "      <th>Pulp Fiction (1994)</th>\n",
       "      <td>4.071956</td>\n",
       "      <td>542.0</td>\n",
       "      <td>4.346839</td>\n",
       "      <td>1629</td>\n",
       "      <td>0.274883</td>\n",
       "    </tr>\n",
       "    <tr>\n",
       "      <th>Star Wars: Episode V - The Empire Strikes Back (1980)</th>\n",
       "      <td>4.106481</td>\n",
       "      <td>648.0</td>\n",
       "      <td>4.344577</td>\n",
       "      <td>2342</td>\n",
       "      <td>0.238096</td>\n",
       "    </tr>\n",
       "    <tr>\n",
       "      <th>Jurassic Park (1993)</th>\n",
       "      <td>3.579407</td>\n",
       "      <td>573.0</td>\n",
       "      <td>3.814197</td>\n",
       "      <td>2099</td>\n",
       "      <td>0.234791</td>\n",
       "    </tr>\n",
       "    <tr>\n",
       "      <th>Matrix, The (1999)</th>\n",
       "      <td>4.128405</td>\n",
       "      <td>514.0</td>\n",
       "      <td>4.362235</td>\n",
       "      <td>2076</td>\n",
       "      <td>0.233830</td>\n",
       "    </tr>\n",
       "    <tr>\n",
       "      <th>Star Wars: Episode VI - Return of the Jedi (1983)</th>\n",
       "      <td>3.865237</td>\n",
       "      <td>653.0</td>\n",
       "      <td>4.069058</td>\n",
       "      <td>2230</td>\n",
       "      <td>0.203821</td>\n",
       "    </tr>\n",
       "    <tr>\n",
       "      <th>Star Wars: Episode IV - A New Hope (1977)</th>\n",
       "      <td>4.302937</td>\n",
       "      <td>647.0</td>\n",
       "      <td>4.495307</td>\n",
       "      <td>2344</td>\n",
       "      <td>0.192371</td>\n",
       "    </tr>\n",
       "    <tr>\n",
       "      <th>Raiders of the Lost Ark (1981)</th>\n",
       "      <td>4.332168</td>\n",
       "      <td>572.0</td>\n",
       "      <td>4.520597</td>\n",
       "      <td>1942</td>\n",
       "      <td>0.188429</td>\n",
       "    </tr>\n",
       "  </tbody>\n",
       "</table>\n",
       "</div>"
      ],
      "text/plain": [
       "                                                      평점평균_f  평점개수_f  \\\n",
       "영화제목                                                                   \n",
       "Groundhog Day (1993)                                3.735562   658.0   \n",
       "Saving Private Ryan (1998)                          4.114783   575.0   \n",
       "Braveheart (1995)                                   4.016484   546.0   \n",
       "Pulp Fiction (1994)                                 4.071956   542.0   \n",
       "Star Wars: Episode V - The Empire Strikes Back ...  4.106481   648.0   \n",
       "Jurassic Park (1993)                                3.579407   573.0   \n",
       "Matrix, The (1999)                                  4.128405   514.0   \n",
       "Star Wars: Episode VI - Return of the Jedi (1983)   3.865237   653.0   \n",
       "Star Wars: Episode IV - A New Hope (1977)           4.302937   647.0   \n",
       "Raiders of the Lost Ark (1981)                      4.332168   572.0   \n",
       "\n",
       "                                                      평점평균_m  평점개수_m      평점차이  \n",
       "영화제목                                                                            \n",
       "Groundhog Day (1993)                                4.041358    1620  0.305796  \n",
       "Saving Private Ryan (1998)                          4.398941    2078  0.284159  \n",
       "Braveheart (1995)                                   4.297839    1897  0.281355  \n",
       "Pulp Fiction (1994)                                 4.346839    1629  0.274883  \n",
       "Star Wars: Episode V - The Empire Strikes Back ...  4.344577    2342  0.238096  \n",
       "Jurassic Park (1993)                                3.814197    2099  0.234791  \n",
       "Matrix, The (1999)                                  4.362235    2076  0.233830  \n",
       "Star Wars: Episode VI - Return of the Jedi (1983)   4.069058    2230  0.203821  \n",
       "Star Wars: Episode IV - A New Hope (1977)           4.495307    2344  0.192371  \n",
       "Raiders of the Lost Ark (1981)                      4.520597    1942  0.188429  "
      ]
     },
     "execution_count": 167,
     "metadata": {},
     "output_type": "execute_result"
    }
   ],
   "source": [
    "여남평점 = pd.concat(여성평점, 남성평점)\n",
    "여남평점['평점차이'] = abs(여남평점['평점평균_f']-여남평점['평점평균_m'])\n",
    "여남평점.nlargest(10, ('평점차이'))"
   ]
  },
  {
   "cell_type": "code",
   "execution_count": null,
   "metadata": {},
   "outputs": [],
   "source": []
  },
  {
   "cell_type": "code",
   "execution_count": null,
   "metadata": {},
   "outputs": [],
   "source": [
    "ex3 = data.pivot_table(index = '영화제목', columns= '성별',\n",
    "                      values = '평점', aggfunc = ['mean', 'count'])"
   ]
  },
  {
   "cell_type": "code",
   "execution_count": null,
   "metadata": {
    "scrolled": true
   },
   "outputs": [],
   "source": [
    "ex3 = ex3[ex3[('count','F')]+ex3[('count','M')]>=500]\n",
    "ex3"
   ]
  },
  {
   "cell_type": "code",
   "execution_count": null,
   "metadata": {
    "scrolled": true
   },
   "outputs": [],
   "source": [
    "ex3[ex3['count'].sum(axis=1) >= 500]"
   ]
  },
  {
   "cell_type": "code",
   "execution_count": 165,
   "metadata": {},
   "outputs": [
    {
     "data": {
      "text/plain": [
       "영화제목\n",
       "Dirty Dancing (1987)                      0.830782\n",
       "Good, The Bad and The Ugly, The (1966)    0.726351\n",
       "Dumb & Dumber (1994)                      0.638608\n",
       "Evil Dead II (Dead By Dawn) (1987)        0.611985\n",
       "Grease (1978)                             0.608224\n",
       "Caddyshack (1980)                         0.573602\n",
       "Animal House (1978)                       0.538286\n",
       "Exorcist, The (1973)                      0.529605\n",
       "Rocky Horror Picture Show, The (1975)     0.512885\n",
       "Big Trouble in Little China (1986)        0.497078\n",
       "dtype: float64"
      ]
     },
     "execution_count": 165,
     "metadata": {},
     "output_type": "execute_result"
    }
   ],
   "source": [
    "abs(ex3[('mean','F')] - ex3[('mean','M')]).nlargest(10)"
   ]
  },
  {
   "cell_type": "code",
   "execution_count": null,
   "metadata": {},
   "outputs": [],
   "source": []
  },
  {
   "cell_type": "markdown",
   "metadata": {
    "collapsed": true
   },
   "source": [
    "## [실습 #4] 연령대 별로 영화 평점 분석하기\n",
    "연령대(10대 미만, 10대, 20대, ...50대) 컬럼을 추가한 후, 영화별 연령대별 영화평점 구하기"
   ]
  },
  {
   "cell_type": "code",
   "execution_count": 103,
   "metadata": {
    "scrolled": true
   },
   "outputs": [
    {
     "data": {
      "text/html": [
       "<div>\n",
       "<style scoped>\n",
       "    .dataframe tbody tr th:only-of-type {\n",
       "        vertical-align: middle;\n",
       "    }\n",
       "\n",
       "    .dataframe tbody tr th {\n",
       "        vertical-align: top;\n",
       "    }\n",
       "\n",
       "    .dataframe thead th {\n",
       "        text-align: right;\n",
       "    }\n",
       "</style>\n",
       "<table border=\"1\" class=\"dataframe\">\n",
       "  <thead>\n",
       "    <tr style=\"text-align: right;\">\n",
       "      <th></th>\n",
       "      <th>사용자아이디</th>\n",
       "      <th>성별</th>\n",
       "      <th>연령</th>\n",
       "      <th>직업</th>\n",
       "      <th>지역</th>\n",
       "      <th>영화아이디</th>\n",
       "      <th>평점</th>\n",
       "      <th>타임스탬프</th>\n",
       "      <th>영화제목</th>\n",
       "      <th>장르</th>\n",
       "    </tr>\n",
       "  </thead>\n",
       "  <tbody>\n",
       "    <tr>\n",
       "      <th>0</th>\n",
       "      <td>1</td>\n",
       "      <td>F</td>\n",
       "      <td>1</td>\n",
       "      <td>10</td>\n",
       "      <td>48067</td>\n",
       "      <td>1193</td>\n",
       "      <td>5</td>\n",
       "      <td>978300760</td>\n",
       "      <td>One Flew Over the Cuckoo's Nest (1975)</td>\n",
       "      <td>Drama</td>\n",
       "    </tr>\n",
       "    <tr>\n",
       "      <th>1</th>\n",
       "      <td>2</td>\n",
       "      <td>M</td>\n",
       "      <td>56</td>\n",
       "      <td>16</td>\n",
       "      <td>70072</td>\n",
       "      <td>1193</td>\n",
       "      <td>5</td>\n",
       "      <td>978298413</td>\n",
       "      <td>One Flew Over the Cuckoo's Nest (1975)</td>\n",
       "      <td>Drama</td>\n",
       "    </tr>\n",
       "    <tr>\n",
       "      <th>2</th>\n",
       "      <td>12</td>\n",
       "      <td>M</td>\n",
       "      <td>25</td>\n",
       "      <td>12</td>\n",
       "      <td>32793</td>\n",
       "      <td>1193</td>\n",
       "      <td>4</td>\n",
       "      <td>978220179</td>\n",
       "      <td>One Flew Over the Cuckoo's Nest (1975)</td>\n",
       "      <td>Drama</td>\n",
       "    </tr>\n",
       "    <tr>\n",
       "      <th>3</th>\n",
       "      <td>15</td>\n",
       "      <td>M</td>\n",
       "      <td>25</td>\n",
       "      <td>7</td>\n",
       "      <td>22903</td>\n",
       "      <td>1193</td>\n",
       "      <td>4</td>\n",
       "      <td>978199279</td>\n",
       "      <td>One Flew Over the Cuckoo's Nest (1975)</td>\n",
       "      <td>Drama</td>\n",
       "    </tr>\n",
       "    <tr>\n",
       "      <th>4</th>\n",
       "      <td>17</td>\n",
       "      <td>M</td>\n",
       "      <td>50</td>\n",
       "      <td>1</td>\n",
       "      <td>95350</td>\n",
       "      <td>1193</td>\n",
       "      <td>5</td>\n",
       "      <td>978158471</td>\n",
       "      <td>One Flew Over the Cuckoo's Nest (1975)</td>\n",
       "      <td>Drama</td>\n",
       "    </tr>\n",
       "    <tr>\n",
       "      <th>...</th>\n",
       "      <td>...</td>\n",
       "      <td>...</td>\n",
       "      <td>...</td>\n",
       "      <td>...</td>\n",
       "      <td>...</td>\n",
       "      <td>...</td>\n",
       "      <td>...</td>\n",
       "      <td>...</td>\n",
       "      <td>...</td>\n",
       "      <td>...</td>\n",
       "    </tr>\n",
       "    <tr>\n",
       "      <th>1000204</th>\n",
       "      <td>5949</td>\n",
       "      <td>M</td>\n",
       "      <td>18</td>\n",
       "      <td>17</td>\n",
       "      <td>47901</td>\n",
       "      <td>2198</td>\n",
       "      <td>5</td>\n",
       "      <td>958846401</td>\n",
       "      <td>Modulations (1998)</td>\n",
       "      <td>Documentary</td>\n",
       "    </tr>\n",
       "    <tr>\n",
       "      <th>1000205</th>\n",
       "      <td>5675</td>\n",
       "      <td>M</td>\n",
       "      <td>35</td>\n",
       "      <td>14</td>\n",
       "      <td>30030</td>\n",
       "      <td>2703</td>\n",
       "      <td>3</td>\n",
       "      <td>976029116</td>\n",
       "      <td>Broken Vessels (1998)</td>\n",
       "      <td>Drama</td>\n",
       "    </tr>\n",
       "    <tr>\n",
       "      <th>1000206</th>\n",
       "      <td>5780</td>\n",
       "      <td>M</td>\n",
       "      <td>18</td>\n",
       "      <td>17</td>\n",
       "      <td>92886</td>\n",
       "      <td>2845</td>\n",
       "      <td>1</td>\n",
       "      <td>958153068</td>\n",
       "      <td>White Boys (1999)</td>\n",
       "      <td>Drama</td>\n",
       "    </tr>\n",
       "    <tr>\n",
       "      <th>1000207</th>\n",
       "      <td>5851</td>\n",
       "      <td>F</td>\n",
       "      <td>18</td>\n",
       "      <td>20</td>\n",
       "      <td>55410</td>\n",
       "      <td>3607</td>\n",
       "      <td>5</td>\n",
       "      <td>957756608</td>\n",
       "      <td>One Little Indian (1973)</td>\n",
       "      <td>Comedy|Drama|Western</td>\n",
       "    </tr>\n",
       "    <tr>\n",
       "      <th>1000208</th>\n",
       "      <td>5938</td>\n",
       "      <td>M</td>\n",
       "      <td>25</td>\n",
       "      <td>1</td>\n",
       "      <td>35401</td>\n",
       "      <td>2909</td>\n",
       "      <td>4</td>\n",
       "      <td>957273353</td>\n",
       "      <td>Five Wives, Three Secretaries and Me (1998)</td>\n",
       "      <td>Documentary</td>\n",
       "    </tr>\n",
       "  </tbody>\n",
       "</table>\n",
       "<p>1000209 rows × 10 columns</p>\n",
       "</div>"
      ],
      "text/plain": [
       "         사용자아이디 성별  연령  직업     지역  영화아이디  평점      타임스탬프  \\\n",
       "0             1  F   1  10  48067   1193   5  978300760   \n",
       "1             2  M  56  16  70072   1193   5  978298413   \n",
       "2            12  M  25  12  32793   1193   4  978220179   \n",
       "3            15  M  25   7  22903   1193   4  978199279   \n",
       "4            17  M  50   1  95350   1193   5  978158471   \n",
       "...         ... ..  ..  ..    ...    ...  ..        ...   \n",
       "1000204    5949  M  18  17  47901   2198   5  958846401   \n",
       "1000205    5675  M  35  14  30030   2703   3  976029116   \n",
       "1000206    5780  M  18  17  92886   2845   1  958153068   \n",
       "1000207    5851  F  18  20  55410   3607   5  957756608   \n",
       "1000208    5938  M  25   1  35401   2909   4  957273353   \n",
       "\n",
       "                                                영화제목                    장르  \n",
       "0             One Flew Over the Cuckoo's Nest (1975)                 Drama  \n",
       "1             One Flew Over the Cuckoo's Nest (1975)                 Drama  \n",
       "2             One Flew Over the Cuckoo's Nest (1975)                 Drama  \n",
       "3             One Flew Over the Cuckoo's Nest (1975)                 Drama  \n",
       "4             One Flew Over the Cuckoo's Nest (1975)                 Drama  \n",
       "...                                              ...                   ...  \n",
       "1000204                           Modulations (1998)           Documentary  \n",
       "1000205                        Broken Vessels (1998)                 Drama  \n",
       "1000206                            White Boys (1999)                 Drama  \n",
       "1000207                     One Little Indian (1973)  Comedy|Drama|Western  \n",
       "1000208  Five Wives, Three Secretaries and Me (1998)           Documentary  \n",
       "\n",
       "[1000209 rows x 10 columns]"
      ]
     },
     "execution_count": 103,
     "metadata": {},
     "output_type": "execute_result"
    }
   ],
   "source": [
    "data"
   ]
  },
  {
   "cell_type": "code",
   "execution_count": 104,
   "metadata": {
    "scrolled": false
   },
   "outputs": [
    {
     "data": {
      "text/plain": [
       "56"
      ]
     },
     "execution_count": 104,
     "metadata": {},
     "output_type": "execute_result"
    }
   ],
   "source": [
    "max(data.연령)"
   ]
  },
  {
   "cell_type": "code",
   "execution_count": null,
   "metadata": {},
   "outputs": [],
   "source": [
    "def ages(i):\n",
    "    if i<10:\n",
    "        return '10대 미만'\n",
    "    elif i<20:\n",
    "        return '10대'\n",
    "    elif i<30:\n",
    "        return '20대'\n",
    "    elif i<40:\n",
    "        return '30대'\n",
    "    elif i<50:\n",
    "        return '40대'\n",
    "    else:\n",
    "        return '50대'"
   ]
  },
  {
   "cell_type": "code",
   "execution_count": null,
   "metadata": {},
   "outputs": [],
   "source": [
    "연령평점 = data.pivot_table(index=['영화제목'], columns='연령대' \n",
    "                        aggfunc=['mean'], values='평점')\n",
    "연령평점.columns=['평점평균']"
   ]
  },
  {
   "cell_type": "code",
   "execution_count": null,
   "metadata": {},
   "outputs": [],
   "source": [
    "#data.pivot_table(index=['영화아이디','영화제목'], aggfunc='mean', values='평점')\\ \n",
    "#                 .nlargest(10, '평점') #nsmallest"
   ]
  },
  {
   "cell_type": "code",
   "execution_count": null,
   "metadata": {},
   "outputs": [],
   "source": []
  },
  {
   "cell_type": "code",
   "execution_count": 168,
   "metadata": {},
   "outputs": [],
   "source": [
    "def generate_ages(x):\n",
    "    if x<10:\n",
    "        return '10대 미만'\n",
    "    elif x<20:\n",
    "        return '10대'\n",
    "    elif x<30:\n",
    "        return '20대'\n",
    "    elif x<40:\n",
    "        return '30대'\n",
    "    elif x<50:\n",
    "        return '40대'\n",
    "    elif x<60:\n",
    "        return '50대 이상'"
   ]
  },
  {
   "cell_type": "code",
   "execution_count": 169,
   "metadata": {},
   "outputs": [
    {
     "data": {
      "text/plain": [
       "'50대 이상'"
      ]
     },
     "execution_count": 169,
     "metadata": {},
     "output_type": "execute_result"
    }
   ],
   "source": [
    "generate_ages(56)"
   ]
  },
  {
   "cell_type": "code",
   "execution_count": null,
   "metadata": {},
   "outputs": [],
   "source": [
    "data['연령대'] = data.연령.apply(generate_ages)"
   ]
  },
  {
   "cell_type": "code",
   "execution_count": null,
   "metadata": {},
   "outputs": [],
   "source": [
    "data"
   ]
  },
  {
   "cell_type": "code",
   "execution_count": null,
   "metadata": {},
   "outputs": [],
   "source": [
    "연령평점 = data.pivot_table(index='영화제목', columns='연령대', \n",
    "                        aggfunc=['mean'], values='평점')"
   ]
  },
  {
   "cell_type": "code",
   "execution_count": null,
   "metadata": {},
   "outputs": [],
   "source": []
  }
 ],
 "metadata": {
  "kernelspec": {
   "display_name": "Python 3",
   "language": "python",
   "name": "python3"
  },
  "language_info": {
   "codemirror_mode": {
    "name": "ipython",
    "version": 3
   },
   "file_extension": ".py",
   "mimetype": "text/x-python",
   "name": "python",
   "nbconvert_exporter": "python",
   "pygments_lexer": "ipython3",
   "version": "3.8.3"
  },
  "toc": {
   "base_numbering": 1,
   "nav_menu": {},
   "number_sections": true,
   "sideBar": true,
   "skip_h1_title": false,
   "title_cell": "Table of Contents",
   "title_sidebar": "Contents",
   "toc_cell": false,
   "toc_position": {},
   "toc_section_display": true,
   "toc_window_display": false
  }
 },
 "nbformat": 4,
 "nbformat_minor": 2
}
