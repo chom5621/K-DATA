{
 "cells": [
  {
   "cell_type": "code",
   "execution_count": 1,
   "metadata": {
    "scrolled": true
   },
   "outputs": [
    {
     "name": "stdout",
     "output_type": "stream",
     "text": [
      "Collecting prefixspanNote: you may need to restart the kernel to use updated packages.\n"
     ]
    },
    {
     "name": "stderr",
     "output_type": "stream",
     "text": [
      "WARNING: Ignoring invalid distribution -umpy (c:\\anaconda\\envs\\test3\\lib\\site-packages)\n",
      "WARNING: Ignoring invalid distribution -umpy (c:\\anaconda\\envs\\test3\\lib\\site-packages)\n",
      "WARNING: Ignoring invalid distribution -umpy (c:\\anaconda\\envs\\test3\\lib\\site-packages)\n",
      "WARNING: Ignoring invalid distribution -umpy (c:\\anaconda\\envs\\test3\\lib\\site-packages)\n",
      "WARNING: Ignoring invalid distribution -umpy (c:\\anaconda\\envs\\test3\\lib\\site-packages)\n",
      "WARNING: Ignoring invalid distribution -umpy (c:\\anaconda\\envs\\test3\\lib\\site-packages)\n",
      "WARNING: Ignoring invalid distribution -umpy (c:\\anaconda\\envs\\test3\\lib\\site-packages)\n",
      "WARNING: Ignoring invalid distribution -umpy (c:\\anaconda\\envs\\test3\\lib\\site-packages)\n",
      "WARNING: Ignoring invalid distribution -umpy (c:\\anaconda\\envs\\test3\\lib\\site-packages)\n"
     ]
    },
    {
     "name": "stdout",
     "output_type": "stream",
     "text": [
      "\n",
      "  Downloading prefixspan-0.5.2.tar.gz (10 kB)\n",
      "Collecting docopt>=0.6.2\n",
      "  Downloading docopt-0.6.2.tar.gz (25 kB)\n",
      "Collecting extratools>=0.8.1\n",
      "  Downloading extratools-0.8.2.1.tar.gz (25 kB)\n",
      "Requirement already satisfied: sortedcontainers>=1.5.10 in c:\\anaconda\\envs\\test3\\lib\\site-packages (from extratools>=0.8.1->prefixspan) (2.2.2)\n",
      "Collecting toolz>=0.9.0\n",
      "  Downloading toolz-0.11.1-py3-none-any.whl (55 kB)\n",
      "Building wheels for collected packages: prefixspan, docopt, extratools\n",
      "  Building wheel for prefixspan (setup.py): started\n",
      "  Building wheel for prefixspan (setup.py): finished with status 'done'\n",
      "  Created wheel for prefixspan: filename=prefixspan-0.5.2-py3-none-any.whl size=11238 sha256=30e1f7db5049bf7cd5c6d849a3c5a3ab21ef40fe04ac4219901db85837eab5ae\n",
      "  Stored in directory: c:\\users\\chom5\\appdata\\local\\pip\\cache\\wheels\\99\\6a\\87\\7170158a87b97a642d620ea1767f6519d2cf7db33cac1098ac\n",
      "  Building wheel for docopt (setup.py): started\n",
      "  Building wheel for docopt (setup.py): finished with status 'done'\n",
      "  Created wheel for docopt: filename=docopt-0.6.2-py2.py3-none-any.whl size=13724 sha256=06a43f6b86c33e258637cc1c23fbb9caf912319da6e80d30511dbe5af61dc212\n",
      "  Stored in directory: c:\\users\\chom5\\appdata\\local\\pip\\cache\\wheels\\72\\b0\\3f\\1d95f96ff986c7dfffe46ce2be4062f38ebd04b506c77c81b9\n",
      "  Building wheel for extratools (setup.py): started\n",
      "  Building wheel for extratools (setup.py): finished with status 'done'\n",
      "  Created wheel for extratools: filename=extratools-0.8.2.1-py3-none-any.whl size=28885 sha256=268a675f85f7d98166b6b94140742d163c8f6e53c092ce2bbadbe58b54736050\n",
      "  Stored in directory: c:\\users\\chom5\\appdata\\local\\pip\\cache\\wheels\\78\\c4\\9d\\581ca1511b5a7731bf2406c840dd445a6a8b8e494d29aa1c68\n",
      "Successfully built prefixspan docopt extratools\n",
      "Installing collected packages: toolz, extratools, docopt, prefixspan\n",
      "Successfully installed docopt-0.6.2 extratools-0.8.2.1 prefixspan-0.5.2 toolz-0.11.1\n"
     ]
    }
   ],
   "source": [
    "pip install prefixspan"
   ]
  },
  {
   "cell_type": "code",
   "execution_count": 8,
   "metadata": {
    "scrolled": true
   },
   "outputs": [
    {
     "name": "stdout",
     "output_type": "stream",
     "text": [
      "Help on package prefixspan:\n",
      "\n",
      "NAME\n",
      "    prefixspan\n",
      "\n",
      "PACKAGE CONTENTS\n",
      "    api\n",
      "    closed\n",
      "    frequent\n",
      "    generator\n",
      "    localtyping\n",
      "    prefixspan\n",
      "    topk\n",
      "\n",
      "FILE\n",
      "    c:\\anaconda\\envs\\test3\\lib\\site-packages\\prefixspan\\__init__.py\n",
      "\n",
      "\n"
     ]
    }
   ],
   "source": [
    "import prefixspan\n",
    "\n",
    "help(prefixspan)"
   ]
  },
  {
   "cell_type": "code",
   "execution_count": 9,
   "metadata": {},
   "outputs": [],
   "source": [
    "seq = [['맥주','오징어','맥주','땅콩','소주'],\n",
    "       ['과자','오징어','우유','땅콩','커피','계란'],\n",
    "       ['맥주','오징어','땅콩','라면','맥주','휴지','땅콩','과자'],\n",
    "       ['계란','우유','오징어','휴지','라면']]"
   ]
  },
  {
   "cell_type": "code",
   "execution_count": 10,
   "metadata": {},
   "outputs": [],
   "source": [
    "import prefixspan as ps\n",
    "\n",
    "result = ps.PrefixSpan(seq)"
   ]
  },
  {
   "cell_type": "code",
   "execution_count": null,
   "metadata": {},
   "outputs": [],
   "source": []
  },
  {
   "cell_type": "code",
   "execution_count": 11,
   "metadata": {},
   "outputs": [
    {
     "data": {
      "text/plain": [
       "[(4, ['오징어']),\n",
       " (3, ['땅콩']),\n",
       " (3, ['오징어', '땅콩']),\n",
       " (2, ['오징어', '맥주']),\n",
       " (2, ['오징어', '맥주', '땅콩'])]"
      ]
     },
     "execution_count": 11,
     "metadata": {},
     "output_type": "execute_result"
    }
   ],
   "source": [
    "result.topk(5) # 5등까지"
   ]
  },
  {
   "cell_type": "code",
   "execution_count": 12,
   "metadata": {},
   "outputs": [
    {
     "data": {
      "text/plain": [
       "[(3, ['오징어', '땅콩']),\n",
       " (2, ['오징어', '라면']),\n",
       " (2, ['오징어', '맥주']),\n",
       " (2, ['오징어', '맥주', '땅콩']),\n",
       " (2, ['오징어', '휴지'])]"
      ]
     },
     "execution_count": 12,
     "metadata": {},
     "output_type": "execute_result"
    }
   ],
   "source": [
    "result.topk(5, filter = lambda patt, matches: len(patt)>1)\n",
    "                               #  a      b  \n",
    "                               #매개변수 2개 : True/False로 반환되는 구문"
   ]
  },
  {
   "cell_type": "code",
   "execution_count": 13,
   "metadata": {},
   "outputs": [
    {
     "data": {
      "text/plain": [
       "[(2, ['맥주', '맥주', '땅콩']),\n",
       " (2, ['맥주', '오징어', '땅콩']),\n",
       " (2, ['맥주', '오징어', '맥주']),\n",
       " (2, ['맥주', '오징어', '맥주', '땅콩']),\n",
       " (2, ['오징어', '맥주', '땅콩'])]"
      ]
     },
     "execution_count": 13,
     "metadata": {},
     "output_type": "execute_result"
    }
   ],
   "source": [
    "result.topk(5, filter = lambda patt, matches: len(patt)>2)"
   ]
  },
  {
   "cell_type": "code",
   "execution_count": null,
   "metadata": {},
   "outputs": [],
   "source": []
  },
  {
   "cell_type": "code",
   "execution_count": 14,
   "metadata": {},
   "outputs": [
    {
     "data": {
      "text/plain": [
       "[(2, ['맥주']),\n",
       " (2, ['맥주', '오징어']),\n",
       " (2, ['맥주', '오징어', '맥주']),\n",
       " (2, ['맥주', '오징어', '맥주', '땅콩']),\n",
       " (2, ['맥주', '오징어', '땅콩']),\n",
       " (2, ['맥주', '맥주']),\n",
       " (2, ['맥주', '맥주', '땅콩']),\n",
       " (2, ['맥주', '땅콩']),\n",
       " (4, ['오징어']),\n",
       " (2, ['오징어', '맥주']),\n",
       " (2, ['오징어', '맥주', '땅콩']),\n",
       " (3, ['오징어', '땅콩']),\n",
       " (2, ['오징어', '라면']),\n",
       " (2, ['오징어', '휴지']),\n",
       " (3, ['땅콩']),\n",
       " (2, ['과자']),\n",
       " (2, ['우유']),\n",
       " (2, ['계란']),\n",
       " (2, ['라면']),\n",
       " (2, ['휴지'])]"
      ]
     },
     "execution_count": 14,
     "metadata": {},
     "output_type": "execute_result"
    }
   ],
   "source": [
    "result.frequent(2) #2개부터~"
   ]
  },
  {
   "cell_type": "code",
   "execution_count": 16,
   "metadata": {},
   "outputs": [
    {
     "data": {
      "text/plain": [
       "[(2, ['맥주', '오징어', '맥주']),\n",
       " (2, ['맥주', '오징어', '맥주', '땅콩']),\n",
       " (2, ['맥주', '오징어', '땅콩']),\n",
       " (2, ['맥주', '맥주', '땅콩']),\n",
       " (2, ['오징어', '맥주', '땅콩'])]"
      ]
     },
     "execution_count": 16,
     "metadata": {},
     "output_type": "execute_result"
    }
   ],
   "source": [
    "result.frequent(2, filter = lambda patt, matches: len(patt)>2)"
   ]
  },
  {
   "cell_type": "code",
   "execution_count": null,
   "metadata": {},
   "outputs": [],
   "source": []
  },
  {
   "cell_type": "code",
   "execution_count": 18,
   "metadata": {},
   "outputs": [],
   "source": [
    "import csv\n",
    "\n",
    "seq = []\n",
    "\n",
    "with open(\"market.csv\") as f:\n",
    "    rd = csv.reader(f)\n",
    "    for r in rd:\n",
    "        seq.append(r)"
   ]
  },
  {
   "cell_type": "code",
   "execution_count": 19,
   "metadata": {},
   "outputs": [
    {
     "data": {
      "text/plain": [
       "[(736, ['other vegetables', 'whole milk']),\n",
       " (557, ['whole milk', 'rolls/buns']),\n",
       " (551, ['whole milk', 'yogurt']),\n",
       " (481, ['root vegetables', 'whole milk']),\n",
       " (466, ['root vegetables', 'other vegetables'])]"
      ]
     },
     "execution_count": 19,
     "metadata": {},
     "output_type": "execute_result"
    }
   ],
   "source": [
    "result = ps.PrefixSpan(seq)\n",
    "\n",
    "result.topk(5, filter = lambda patt, matches: len(patt) > 1) "
   ]
  },
  {
   "cell_type": "code",
   "execution_count": 21,
   "metadata": {},
   "outputs": [
    {
     "data": {
      "text/plain": [
       "[(219, ['other vegetables', 'whole milk', 'yogurt']),\n",
       " (228, ['root vegetables', 'other vegetables', 'whole milk'])]"
      ]
     },
     "execution_count": 21,
     "metadata": {},
     "output_type": "execute_result"
    }
   ],
   "source": [
    "result.frequent(200, filter = lambda patt, matches: len(patt) > 2)"
   ]
  },
  {
   "cell_type": "code",
   "execution_count": null,
   "metadata": {},
   "outputs": [],
   "source": []
  }
 ],
 "metadata": {
  "kernelspec": {
   "display_name": "test3",
   "language": "python",
   "name": "test3"
  },
  "language_info": {
   "codemirror_mode": {
    "name": "ipython",
    "version": 3
   },
   "file_extension": ".py",
   "mimetype": "text/x-python",
   "name": "python",
   "nbconvert_exporter": "python",
   "pygments_lexer": "ipython3",
   "version": "3.7.9"
  }
 },
 "nbformat": 4,
 "nbformat_minor": 4
}
