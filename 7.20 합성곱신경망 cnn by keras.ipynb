{
 "cells": [
  {
   "cell_type": "markdown",
   "metadata": {},
   "source": [
    "### 1. 데이터 준비"
   ]
  },
  {
   "cell_type": "code",
   "execution_count": 2,
   "metadata": {
    "collapsed": true
   },
   "outputs": [
    {
     "name": "stderr",
     "output_type": "stream",
     "text": [
      "C:\\anaconda\\envs\\test3\\lib\\site-packages\\ipykernel_launcher.py:10: DeprecationWarning: `np.int` is a deprecated alias for the builtin `int`. To silence this warning, use `int` by itself. Doing this will not modify any behavior and is safe. When replacing `np.int`, you may wish to use e.g. `np.int64` or `np.int32` to specify the precision. If you wish to review your current use, check the release note link for additional information.\n",
      "Deprecated in NumPy 1.20; for more details and guidance: https://numpy.org/devdocs/release/1.20.0-notes.html#deprecations\n",
      "  # Remove the CWD from sys.path while we load stuff.\n"
     ]
    }
   ],
   "source": [
    "from sklearn.datasets import fetch_openml\n",
    "from sklearn.model_selection import train_test_split\n",
    "import tensorflow as tf\n",
    "from tensorflow import keras\n",
    "from tensorflow.keras.utils import to_categorical\n",
    "import numpy as np\n",
    "\n",
    "mnist = fetch_openml('mnist_784', version=1)\n",
    "X = (mnist.data.values / 255).reshape(len(mnist.data), 28, 28, 1)\n",
    "y = to_categorical(mnist.target.astype(np.int), 10)\n",
    "\n",
    "X_train, X_test, y_train, y_test = train_test_split(X, y,\n",
    "                                                    test_size=0.3,\n",
    "                                                    random_state=1)"
   ]
  },
  {
   "cell_type": "code",
   "execution_count": 4,
   "metadata": {},
   "outputs": [
    {
     "data": {
      "text/plain": [
       "<matplotlib.image.AxesImage at 0x24ece74ae08>"
      ]
     },
     "execution_count": 4,
     "metadata": {},
     "output_type": "execute_result"
    },
    {
     "data": {
      "image/png": "[encoded data removed]",
      "text/plain": [
       "<Figure size 432x288 with 1 Axes>"
      ]
     },
     "metadata": {
      "needs_background": "light"
     },
     "output_type": "display_data"
    }
   ],
   "source": [
    "import matplotlib.pyplot as plt\n",
    "\n",
    "XX = (mnist.data.values/255).reshape(len(mnist.data), 28, 28, 1)\n",
    "pixels = XX[0].reshape(28, 28)\n",
    "\n",
    "plt.imshow(pixels, cmap='gray')"
   ]
  },
  {
   "cell_type": "markdown",
   "metadata": {},
   "source": [
    "### 2. 인공 신경망 모형 구성"
   ]
  },
  {
   "cell_type": "code",
   "execution_count": 5,
   "metadata": {
    "collapsed": true
   },
   "outputs": [
    {
     "name": "stderr",
     "output_type": "stream",
     "text": [
      "Using TensorFlow backend.\n"
     ]
    },
    {
     "name": "stdout",
     "output_type": "stream",
     "text": [
      "WARNING:tensorflow:From C:\\anaconda\\envs\\test3\\lib\\site-packages\\keras\\backend\\tensorflow_backend.py:4070: The name tf.nn.max_pool is deprecated. Please use tf.nn.max_pool2d instead.\n",
      "\n"
     ]
    }
   ],
   "source": [
    "from keras.models import Sequential\n",
    "from keras.layers import Dense, Flatten, Dropout\n",
    "from keras.layers.convolutional import Conv2D, MaxPooling2D\n",
    "\n",
    "model = Sequential()\n",
    "model.add(Conv2D(filters=32, kernel_size=(3,3),\n",
    "                 strides=(1,1), padding='Same',\n",
    "                 activation='relu', input_shape=(28, 28, 1)))\n",
    "model.add(Conv2D(filters=32, kernel_size=(3,3),\n",
    "                 strides=(1,1), padding='Same',\n",
    "                 activation='relu'))\n",
    "model.add(MaxPooling2D(pool_size=(2, 2)))"
   ]
  },
  {
   "cell_type": "code",
   "execution_count": 6,
   "metadata": {},
   "outputs": [],
   "source": [
    "model.add(Conv2D(filters=32, kernel_size=(3,3),\n",
    "                 strides=(1,1), padding='Same',\n",
    "                 activation='relu'))\n",
    "model.add(Conv2D(filters=32, kernel_size=(3,3),\n",
    "                 strides=(1,1), padding='Same',\n",
    "                 activation='relu'))\n",
    "model.add(MaxPooling2D(pool_size=(2, 2)))\n",
    "\n",
    "model.add(Flatten())\n",
    "model.add(Dense(units=128, activation='relu'))\n",
    "model.add(Dropout(0, 25))\n",
    "model.add(Dense(units=10, activation='softmax'))"
   ]
  },
  {
   "cell_type": "markdown",
   "metadata": {},
   "source": [
    "### 3. 모형 학습 설정"
   ]
  },
  {
   "cell_type": "code",
   "execution_count": 7,
   "metadata": {},
   "outputs": [],
   "source": [
    "model.compile(loss='categorical_crossentropy',\n",
    "              optimizer='adam',\n",
    "              metrics=['accuracy'])"
   ]
  },
  {
   "cell_type": "code",
   "execution_count": 8,
   "metadata": {
    "scrolled": true
   },
   "outputs": [
    {
     "name": "stdout",
     "output_type": "stream",
     "text": [
      "Model: \"sequential_1\"\n",
      "_________________________________________________________________\n",
      "Layer (type)                 Output Shape              Param #   \n",
      "=================================================================\n",
      "conv2d_1 (Conv2D)            (None, 28, 28, 32)        320       \n",
      "_________________________________________________________________\n",
      "conv2d_2 (Conv2D)            (None, 28, 28, 32)        9248      \n",
      "_________________________________________________________________\n",
      "max_pooling2d_1 (MaxPooling2 (None, 14, 14, 32)        0         \n",
      "_________________________________________________________________\n",
      "conv2d_3 (Conv2D)            (None, 14, 14, 32)        9248      \n",
      "_________________________________________________________________\n",
      "conv2d_4 (Conv2D)            (None, 14, 14, 32)        9248      \n",
      "_________________________________________________________________\n",
      "max_pooling2d_2 (MaxPooling2 (None, 7, 7, 32)          0         \n",
      "_________________________________________________________________\n",
      "flatten_1 (Flatten)          (None, 1568)              0         \n",
      "_________________________________________________________________\n",
      "dense_1 (Dense)              (None, 128)               200832    \n",
      "_________________________________________________________________\n",
      "dropout_1 (Dropout)          (None, 128)               0         \n",
      "_________________________________________________________________\n",
      "dense_2 (Dense)              (None, 10)                1290      \n",
      "=================================================================\n",
      "Total params: 230,186\n",
      "Trainable params: 230,186\n",
      "Non-trainable params: 0\n",
      "_________________________________________________________________\n"
     ]
    }
   ],
   "source": [
    "model.summary()"
   ]
  },
  {
   "cell_type": "markdown",
   "metadata": {},
   "source": [
    "### 4. 모형 학습"
   ]
  },
  {
   "cell_type": "code",
   "execution_count": 9,
   "metadata": {},
   "outputs": [
    {
     "name": "stdout",
     "output_type": "stream",
     "text": [
      "WARNING:tensorflow:From C:\\anaconda\\envs\\test3\\lib\\site-packages\\keras\\backend\\tensorflow_backend.py:422: The name tf.global_variables is deprecated. Please use tf.compat.v1.global_variables instead.\n",
      "\n",
      "Epoch 1/10\n",
      " - 118s - loss: 0.1977 - accuracy: 0.9378\n",
      "Epoch 2/10\n",
      " - 125s - loss: 0.0479 - accuracy: 0.9853\n",
      "Epoch 3/10\n",
      " - 122s - loss: 0.0320 - accuracy: 0.9897\n",
      "Epoch 4/10\n",
      " - 130s - loss: 0.0253 - accuracy: 0.9915\n",
      "Epoch 5/10\n",
      " - 149s - loss: 0.0195 - accuracy: 0.9934\n",
      "Epoch 6/10\n",
      " - 130s - loss: 0.0153 - accuracy: 0.9950\n",
      "Epoch 7/10\n",
      " - 135s - loss: 0.0131 - accuracy: 0.9956\n",
      "Epoch 8/10\n",
      " - 144s - loss: 0.0106 - accuracy: 0.9967\n",
      "Epoch 9/10\n",
      " - 135s - loss: 0.0084 - accuracy: 0.9972\n",
      "Epoch 10/10\n",
      " - 135s - loss: 0.0090 - accuracy: 0.9968\n"
     ]
    },
    {
     "data": {
      "text/plain": [
       "<keras.callbacks.callbacks.History at 0x24ececd0c48>"
      ]
     },
     "execution_count": 9,
     "metadata": {},
     "output_type": "execute_result"
    }
   ],
   "source": [
    "model.fit(X_train, y_train,\n",
    "          epochs=10,\n",
    "          batch_size=100,\n",
    "          verbose=2)"
   ]
  },
  {
   "cell_type": "code",
   "execution_count": 12,
   "metadata": {},
   "outputs": [
    {
     "name": "stdout",
     "output_type": "stream",
     "text": [
      "Train on 49000 samples, validate on 21000 samples\n",
      "Epoch 1/10\n",
      " - 141s - loss: 0.0053 - accuracy: 0.9981 - val_loss: 0.0400 - val_accuracy: 0.9910\n",
      "Epoch 2/10\n",
      " - 143s - loss: 0.0036 - accuracy: 0.9989 - val_loss: 0.0406 - val_accuracy: 0.9923\n",
      "Epoch 3/10\n",
      " - 159s - loss: 0.0051 - accuracy: 0.9983 - val_loss: 0.0429 - val_accuracy: 0.9915\n",
      "Epoch 4/10\n",
      " - 146s - loss: 0.0024 - accuracy: 0.9992 - val_loss: 0.0474 - val_accuracy: 0.9918\n",
      "Epoch 5/10\n",
      " - 122s - loss: 0.0050 - accuracy: 0.9984 - val_loss: 0.0500 - val_accuracy: 0.9915\n",
      "Epoch 6/10\n",
      " - 126s - loss: 0.0056 - accuracy: 0.9982 - val_loss: 0.0386 - val_accuracy: 0.9912\n",
      "Epoch 7/10\n",
      " - 126s - loss: 0.0019 - accuracy: 0.9993 - val_loss: 0.0482 - val_accuracy: 0.9914\n",
      "Epoch 8/10\n",
      " - 120s - loss: 0.0024 - accuracy: 0.9993 - val_loss: 0.0450 - val_accuracy: 0.9911\n",
      "Epoch 9/10\n",
      " - 121s - loss: 0.0027 - accuracy: 0.9990 - val_loss: 0.0727 - val_accuracy: 0.9884\n",
      "Epoch 10/10\n",
      " - 122s - loss: 0.0045 - accuracy: 0.9983 - val_loss: 0.0556 - val_accuracy: 0.9911\n"
     ]
    }
   ],
   "source": [
    "hist = model.fit(X_train, y_train,\n",
    "          epochs=10,\n",
    "          batch_size=100,\n",
    "          verbose=2,\n",
    "          validation_data=(X_test, y_test))"
   ]
  },
  {
   "cell_type": "code",
   "execution_count": 13,
   "metadata": {},
   "outputs": [
    {
     "data": {
      "text/plain": [
       "[0.99814284,\n",
       " 0.9989388,\n",
       " 0.9983469,\n",
       " 0.99916327,\n",
       " 0.9984286,\n",
       " 0.99820405,\n",
       " 0.9993469,\n",
       " 0.9993469,\n",
       " 0.999,\n",
       " 0.9983469]"
      ]
     },
     "execution_count": 13,
     "metadata": {},
     "output_type": "execute_result"
    }
   ],
   "source": [
    "hist.history['accuracy']"
   ]
  },
  {
   "cell_type": "code",
   "execution_count": 14,
   "metadata": {},
   "outputs": [
    {
     "data": {
      "text/plain": [
       "[0.005349045957781091,\n",
       " 0.0036090850588647305,\n",
       " 0.005065664269721064,\n",
       " 0.002448005049827005,\n",
       " 0.004996163651273265,\n",
       " 0.00559868292385317,\n",
       " 0.0019121432793290714,\n",
       " 0.002412763080913482,\n",
       " 0.002746080806990247,\n",
       " 0.0045418945913395315]"
      ]
     },
     "execution_count": 14,
     "metadata": {},
     "output_type": "execute_result"
    }
   ],
   "source": [
    "hist.history['loss']"
   ]
  },
  {
   "cell_type": "markdown",
   "metadata": {},
   "source": [
    "### 5. 모형 성능 평가"
   ]
  },
  {
   "cell_type": "code",
   "execution_count": 15,
   "metadata": {},
   "outputs": [
    {
     "name": "stdout",
     "output_type": "stream",
     "text": [
      "21000/21000 [==============================] - 10s 487us/step\n"
     ]
    }
   ],
   "source": [
    "loss, acc = model.evaluate(X_test, y_test)"
   ]
  },
  {
   "cell_type": "code",
   "execution_count": 16,
   "metadata": {},
   "outputs": [
    {
     "name": "stdout",
     "output_type": "stream",
     "text": [
      "손실값: 0.056\n",
      "정확도: 0.991\n"
     ]
    }
   ],
   "source": [
    "print('손실값:', round(loss, 3))\n",
    "print('정확도:', round(acc, 3))"
   ]
  },
  {
   "cell_type": "markdown",
   "metadata": {},
   "source": [
    "### 6. 임의의 데이터- 모형 출력 확인"
   ]
  },
  {
   "cell_type": "code",
   "execution_count": 17,
   "metadata": {},
   "outputs": [
    {
     "name": "stdout",
     "output_type": "stream",
     "text": [
      "[[3.3007530e-10 1.6053943e-21 2.2508612e-22 2.0270688e-24 1.2968462e-17\n",
      "  9.9883891e-07 9.9999905e-01 6.8372888e-18 4.1579479e-14 5.7766708e-18]\n",
      " [6.1978045e-09 3.3352475e-17 1.0000000e+00 1.1431502e-10 8.6200197e-22\n",
      "  1.6387594e-13 5.5982271e-23 4.1321726e-13 7.2393602e-10 3.7980796e-15]\n",
      " [4.3988215e-26 5.1297690e-20 1.5700178e-17 2.2973582e-16 1.6362341e-15\n",
      "  6.2587392e-26 1.5315467e-28 1.0000000e+00 2.5916148e-24 1.4871216e-16]]\n"
     ]
    }
   ],
   "source": [
    "y_pred = model.predict(X_test)\n",
    "print(y_pred[0:3])"
   ]
  },
  {
   "cell_type": "code",
   "execution_count": 18,
   "metadata": {},
   "outputs": [
    {
     "name": "stdout",
     "output_type": "stream",
     "text": [
      "[6 2 7]\n"
     ]
    }
   ],
   "source": [
    "y_pred_class = model.predict_classes(X_test)\n",
    "print(y_pred_class[0:3])"
   ]
  },
  {
   "cell_type": "code",
   "execution_count": null,
   "metadata": {},
   "outputs": [],
   "source": []
  },
  {
   "cell_type": "code",
   "execution_count": 19,
   "metadata": {
    "collapsed": true
   },
   "outputs": [
    {
     "data": {
      "text/plain": [
       "<matplotlib.legend.Legend at 0x24ed263b8c8>"
      ]
     },
     "execution_count": 19,
     "metadata": {},
     "output_type": "execute_result"
    },
    {
     "data": {
      "image/png": "[encoded data removed]",
      "text/plain": [
       "<Figure size 720x720 with 2 Axes>"
      ]
     },
     "metadata": {
      "needs_background": "light"
     },
     "output_type": "display_data"
    }
   ],
   "source": [
    "plt.figure(figsize=(10, 10))\n",
    "\n",
    "plt.subplot(1, 2, 1)\n",
    "plt.plot(hist.history['loss'], color='blue', linestyle='--', label='train')\n",
    "plt.plot(hist.history['val_loss'], color='red', label='validation')\n",
    "plt.xlabel('epoch', fontsize=15)\n",
    "plt.ylabel('loss', fontsize=15)\n",
    "plt.title('LOSS', fontsize=18)\n",
    "plt.grid(linestyle='--')\n",
    "plt.legend(fontsize=15, loc='best')\n",
    "\n",
    "plt.subplot(1, 2, 2)\n",
    "plt.plot(hist.history['accuracy'], color='blue', linestyle='--', label='train')\n",
    "plt.plot(hist.history['val_accuracy'], color='red', label='validation')\n",
    "plt.xlabel('epoch', fontsize=15)\n",
    "plt.ylabel('accuracy', fontsize=15)\n",
    "plt.title('ACCURACY', fontsize=18)\n",
    "plt.grid(linestyle='--')\n",
    "plt.legend(fontsize=15, loc='best')"
   ]
  },
  {
   "cell_type": "code",
   "execution_count": null,
   "metadata": {},
   "outputs": [],
   "source": []
  }
 ],
 "metadata": {
  "kernelspec": {
   "display_name": "test3",
   "language": "python",
   "name": "test3"
  },
  "language_info": {
   "codemirror_mode": {
    "name": "ipython",
    "version": 3
   },
   "file_extension": ".py",
   "mimetype": "text/x-python",
   "name": "python",
   "nbconvert_exporter": "python",
   "pygments_lexer": "ipython3",
   "version": "3.7.9"
  }
 },
 "nbformat": 4,
 "nbformat_minor": 4
}
